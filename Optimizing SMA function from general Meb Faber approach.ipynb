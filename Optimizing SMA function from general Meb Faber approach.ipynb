{
 "cells": [
  {
   "cell_type": "code",
   "execution_count": 1,
   "metadata": {},
   "outputs": [],
   "source": [
    "import pandas as pd\n",
    "import numpy as np\n",
    "from pandas_datareader import data, wb\n",
    "from datetime import datetime\n",
    "import scipy.stats as stats"
   ]
  },
  {
   "cell_type": "code",
   "execution_count": 36,
   "metadata": {},
   "outputs": [],
   "source": [
    "#pull in dataset used as the benchmark and dataset for SMA strategy. Note the start and end dates.\n",
    "\n",
    "start = datetime(2005,1,1)\n",
    "end = datetime(2020,5,1)\n",
    "stock = data.DataReader(\"IVV\", 'yahoo', start, end).reset_index()\n",
    "close = stock[\"Close\"] #data used for SMA function"
   ]
  },
  {
   "cell_type": "code",
   "execution_count": 37,
   "metadata": {},
   "outputs": [],
   "source": [
    "#The SMA function,includes current day included SMA. basic form is to compare price to SMA of length set by user.\n",
    "#This function looks for another price signal after a number of days equal to the return length\n",
    "\n",
    "def SMA_timing_func(SMA_len, return_len, data, initial):\n",
    "    timing = initial\n",
    "    hold = 'cash'\n",
    "    #acct_value = []\n",
    "    \n",
    "    for n in range (SMA_len, len(data)-return_len-np.mod(len(data)-SMA_len, return_len),return_len): #the stopping point maximises the loops us of dtaset without falling outside of it.\n",
    "        price = data.iloc[n]\n",
    "        next_price = data.iloc[n+return_len]\n",
    "        SMA = data[n-SMA_len:n].mean()\n",
    "        #acct_value.append(timing)\n",
    "        if (price >= SMA) & (hold =='stock'): #the first case for when the loop checks for a price signal\n",
    "            timing = next_price/price*timing\n",
    "        elif (price >= SMA) & (hold =='cash'):#the second case for when the loop checks for a price signal\n",
    "            hold = 'stock'\n",
    "            timing = next_price/price*timing\n",
    "        elif (price < SMA) & (hold =='stock'):#the third and final case for when the loop checks for a price signal because in th fourth scenario nothing happens.\n",
    "            hold ='cash'\n",
    "    return(timing)"
   ]
  },
  {
   "cell_type": "code",
   "execution_count": 38,
   "metadata": {},
   "outputs": [],
   "source": [
    "#Here you can set how finely you want to tune the parameters\n",
    "SMA_range = np.arange(1,731, 73) #1,10,73\n",
    "return_range = np.arange(1,91, 30) #1,10,30 "
   ]
  },
  {
   "cell_type": "code",
   "execution_count": 39,
   "metadata": {},
   "outputs": [],
   "source": [
    "#create dataframe that has sma and return ranges as coloumns. output to a third vector that gets concatenated to dataframe"
   ]
  },
  {
   "cell_type": "code",
   "execution_count": 74,
   "metadata": {},
   "outputs": [],
   "source": [
    "#simple version, varying over parameter space\n",
    "def vary_over_space(data):\n",
    "    Max_Val = 0\n",
    "    num = 0\n",
    "    outperform=0\n",
    "    benchmark = data.iloc[-1]/data.iloc[0]\n",
    "    for i in return_range:\n",
    "        for j in SMA_range:\n",
    "            Value=SMA_timing_func(j,i,data,1)\n",
    "            if Value > benchmark:\n",
    "                print(Value)\n",
    "                print(Value, \"outperforms at SMA =\",j,\", and return_range =\", i)\n",
    "            if Value > Max_Val:\n",
    "                Max_Val = Value\n",
    "                optimum_SMA=j\n",
    "                optimum_return=i\n",
    "        num=num+1\n",
    "        print(\"Outer loop number\", num)\n",
    "    print(Max_Val)\n",
    "    print(optimum_SMA) \n",
    "    print(optimum_return)\n",
    "    print(\"Benchmark is \", benchmark)"
   ]
  },
  {
   "cell_type": "code",
   "execution_count": 75,
   "metadata": {},
   "outputs": [
    {
     "name": "stdout",
     "output_type": "stream",
     "text": [
      "Outer loop number 1\n",
      "2.6759075145410565\n",
      "2.6759075145410565 outperforms at SMA = 147 , and return_range = 31\n",
      "2.897752724327385\n",
      "2.897752724327385 outperforms at SMA = 220 , and return_range = 31\n",
      "2.6656978739658177\n",
      "2.6656978739658177 outperforms at SMA = 366 , and return_range = 31\n",
      "2.4462965986598495\n",
      "2.4462965986598495 outperforms at SMA = 512 , and return_range = 31\n",
      "Outer loop number 2\n",
      "2.4180859207828465\n",
      "2.4180859207828465 outperforms at SMA = 366 , and return_range = 61\n",
      "2.6134546043843305\n",
      "2.6134546043843305 outperforms at SMA = 439 , and return_range = 61\n",
      "Outer loop number 3\n",
      "2.897752724327385\n",
      "220\n",
      "31\n",
      "Benchmark is  2.353727386138126\n"
     ]
    }
   ],
   "source": [
    "vary_over_space(close)"
   ]
  },
  {
   "cell_type": "code",
   "execution_count": null,
   "metadata": {},
   "outputs": [],
   "source": [
    "#This methods is extremely vulverable to overfitting. Need to look for a more robust system\n",
    "#Might be interesting to make a 3d graph of the reurn over parameter space"
   ]
  }
 ],
 "metadata": {
  "kernelspec": {
   "display_name": "Python 3",
   "language": "python",
   "name": "python3"
  },
  "language_info": {
   "codemirror_mode": {
    "name": "ipython",
    "version": 3
   },
   "file_extension": ".py",
   "mimetype": "text/x-python",
   "name": "python",
   "nbconvert_exporter": "python",
   "pygments_lexer": "ipython3",
   "version": "3.7.6"
  }
 },
 "nbformat": 4,
 "nbformat_minor": 4
}
