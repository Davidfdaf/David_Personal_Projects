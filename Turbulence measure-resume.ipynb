{
 "cells": [
  {
   "cell_type": "code",
   "execution_count": 1,
   "metadata": {},
   "outputs": [],
   "source": [
    "import pandas as pd\n",
    "import numpy as np\n",
    "from pandas_datareader import data, wb\n",
    "from datetime import datetime\n",
    "import seaborn as sns\n",
    "import matplotlib.pyplot as plt\n",
    "import math\n",
    "from numpy.linalg import inv"
   ]
  },
  {
   "cell_type": "code",
   "execution_count": 2,
   "metadata": {},
   "outputs": [],
   "source": [
    "#https://www.top1000funds.com/wp-content/uploads/2010/11/FAJskulls.pdf"
   ]
  },
  {
   "cell_type": "markdown",
   "metadata": {},
   "source": [
    "Create Dataset for SMA function: Pull in Stock Data, Generate Turbulence Indicator"
   ]
  },
  {
   "cell_type": "code",
   "execution_count": 81,
   "metadata": {},
   "outputs": [
    {
     "name": "stderr",
     "output_type": "stream",
     "text": [
      "C:\\Users\\avid\\anaconda3\\lib\\site-packages\\ipykernel_launcher.py:29: SettingWithCopyWarning: \n",
      "A value is trying to be set on a copy of a slice from a DataFrame.\n",
      "Try using .loc[row_indexer,col_indexer] = value instead\n",
      "\n",
      "See the caveats in the documentation: https://pandas.pydata.org/pandas-docs/stable/user_guide/indexing.html#returning-a-view-versus-a-copy\n"
     ]
    }
   ],
   "source": [
    "#read in stock data\n",
    "tickers = ['SPY','TLT','GLD',\"GBTC\",\"DIA\",\"JNK\",\"SPSB\",\"SPDW\",\"SPEM\",\"SPAB\"] # try to gain information from different markets\n",
    "start = datetime(2015,7,1)\n",
    "end = datetime(2021,2,1)\n",
    "stocks=pd.DataFrame()\n",
    "stock_div=pd.DataFrame()\n",
    "for tick in tickers:\n",
    "    stocks[tick] = data.DataReader(tick, 'yahoo', start, end)[\"Close\"]\n",
    "    stock_div[tick+' div'] = data.DataReader(tick, 'yahoo-dividends', start, end)[\"value\"]\n",
    "stocks = pd.concat([stocks,stock_div],axis=1)\n",
    "stocks = stocks.fillna(0)\n",
    "\n",
    "#Adding dividends to price appreciation on a daily percent return basis\n",
    "raw_returns=pd.DataFrame()\n",
    "for tick in tickers:\n",
    "    raw_returns[tick] = stocks[tick].pct_change()+stocks[tick+' div']/stocks[tick]\n",
    "returns=raw_returns[1:]\n",
    "returns = returns[np.isfinite(returns).all(1)]\n",
    "\n",
    "#Turbulence indicator- I use the square root because the magnitude of the indicator is higher for daily data\n",
    "#starts 15 days in for stability reasons. inverse covariance matrix is large and sometimes negative for small sample sizes\n",
    "turbulence=[]\n",
    "for i in range(15,len(returns)):\n",
    "    deviation = returns.iloc[i]-returns[:i].mean() #[:i] prevents information bleed\n",
    "    inverse = np.linalg.inv(returns[:i].cov())     #[:i] prevents information bleed\n",
    "    turb = np.sqrt(np.matmul(np.matmul(deviation.T,inverse),deviation))\n",
    "    turbulence.append(turb)\n",
    "AllData = returns[15:]\n",
    "AllData['Turbulence']=turbulence"
   ]
  },
  {
   "cell_type": "markdown",
   "metadata": {},
   "source": [
    "Show Data"
   ]
  },
  {
   "cell_type": "code",
   "execution_count": 82,
   "metadata": {},
   "outputs": [
    {
     "data": {
      "text/plain": [
       "<matplotlib.axes._subplots.AxesSubplot at 0x2380c7ba648>"
      ]
     },
     "execution_count": 82,
     "metadata": {},
     "output_type": "execute_result"
    },
    {
     "data": {
      "image/png": "[encoded data removed]",
      "text/plain": [
       "<Figure size 432x288 with 1 Axes>"
      ]
     },
     "metadata": {
      "needs_background": "light"
     },
     "output_type": "display_data"
    }
   ],
   "source": [
    "AllData[\"Turbulence\"].plot()"
   ]
  },
  {
   "cell_type": "code",
   "execution_count": 83,
   "metadata": {
    "scrolled": false
   },
   "outputs": [
    {
     "data": {
      "text/html": [
       "<div>\n",
       "<style scoped>\n",
       "    .dataframe tbody tr th:only-of-type {\n",
       "        vertical-align: middle;\n",
       "    }\n",
       "\n",
       "    .dataframe tbody tr th {\n",
       "        vertical-align: top;\n",
       "    }\n",
       "\n",
       "    .dataframe thead th {\n",
       "        text-align: right;\n",
       "    }\n",
       "</style>\n",
       "<table border=\"1\" class=\"dataframe\">\n",
       "  <thead>\n",
       "    <tr style=\"text-align: right;\">\n",
       "      <th></th>\n",
       "      <th>SPY</th>\n",
       "      <th>TLT</th>\n",
       "      <th>GLD</th>\n",
       "      <th>GBTC</th>\n",
       "      <th>DIA</th>\n",
       "      <th>JNK</th>\n",
       "      <th>SPSB</th>\n",
       "      <th>SPDW</th>\n",
       "      <th>SPEM</th>\n",
       "      <th>SPAB</th>\n",
       "      <th>Turbulence</th>\n",
       "    </tr>\n",
       "  </thead>\n",
       "  <tbody>\n",
       "    <tr>\n",
       "      <th>2015-07-24</th>\n",
       "      <td>-0.010372</td>\n",
       "      <td>0.002478</td>\n",
       "      <td>0.009777</td>\n",
       "      <td>0.001638</td>\n",
       "      <td>-0.009257</td>\n",
       "      <td>-0.003702</td>\n",
       "      <td>-0.000655</td>\n",
       "      <td>-0.009527</td>\n",
       "      <td>-0.013674</td>\n",
       "      <td>0.000521</td>\n",
       "      <td>7.820398</td>\n",
       "    </tr>\n",
       "    <tr>\n",
       "      <th>2015-07-27</th>\n",
       "      <td>-0.005817</td>\n",
       "      <td>0.005355</td>\n",
       "      <td>-0.004651</td>\n",
       "      <td>-0.001635</td>\n",
       "      <td>-0.007350</td>\n",
       "      <td>-0.004246</td>\n",
       "      <td>0.001310</td>\n",
       "      <td>-0.008194</td>\n",
       "      <td>-0.022116</td>\n",
       "      <td>0.001388</td>\n",
       "      <td>7.724158</td>\n",
       "    </tr>\n",
       "    <tr>\n",
       "      <th>2015-07-28</th>\n",
       "      <td>0.012283</td>\n",
       "      <td>-0.007293</td>\n",
       "      <td>0.001526</td>\n",
       "      <td>0.001638</td>\n",
       "      <td>0.010790</td>\n",
       "      <td>0.003465</td>\n",
       "      <td>0.000327</td>\n",
       "      <td>0.011853</td>\n",
       "      <td>0.006076</td>\n",
       "      <td>-0.001733</td>\n",
       "      <td>6.847804</td>\n",
       "    </tr>\n",
       "    <tr>\n",
       "      <th>2015-07-29</th>\n",
       "      <td>0.006879</td>\n",
       "      <td>-0.003714</td>\n",
       "      <td>0.001428</td>\n",
       "      <td>-0.003274</td>\n",
       "      <td>0.006530</td>\n",
       "      <td>0.006109</td>\n",
       "      <td>-0.000654</td>\n",
       "      <td>0.004615</td>\n",
       "      <td>0.008220</td>\n",
       "      <td>-0.000521</td>\n",
       "      <td>9.261124</td>\n",
       "    </tr>\n",
       "    <tr>\n",
       "      <th>2015-07-30</th>\n",
       "      <td>0.000237</td>\n",
       "      <td>0.007705</td>\n",
       "      <td>-0.008558</td>\n",
       "      <td>0.001644</td>\n",
       "      <td>-0.000226</td>\n",
       "      <td>0.002904</td>\n",
       "      <td>0.000000</td>\n",
       "      <td>-0.001060</td>\n",
       "      <td>-0.004825</td>\n",
       "      <td>0.001216</td>\n",
       "      <td>3.391240</td>\n",
       "    </tr>\n",
       "  </tbody>\n",
       "</table>\n",
       "</div>"
      ],
      "text/plain": [
       "                 SPY       TLT       GLD      GBTC       DIA       JNK  \\\n",
       "2015-07-24 -0.010372  0.002478  0.009777  0.001638 -0.009257 -0.003702   \n",
       "2015-07-27 -0.005817  0.005355 -0.004651 -0.001635 -0.007350 -0.004246   \n",
       "2015-07-28  0.012283 -0.007293  0.001526  0.001638  0.010790  0.003465   \n",
       "2015-07-29  0.006879 -0.003714  0.001428 -0.003274  0.006530  0.006109   \n",
       "2015-07-30  0.000237  0.007705 -0.008558  0.001644 -0.000226  0.002904   \n",
       "\n",
       "                SPSB      SPDW      SPEM      SPAB  Turbulence  \n",
       "2015-07-24 -0.000655 -0.009527 -0.013674  0.000521    7.820398  \n",
       "2015-07-27  0.001310 -0.008194 -0.022116  0.001388    7.724158  \n",
       "2015-07-28  0.000327  0.011853  0.006076 -0.001733    6.847804  \n",
       "2015-07-29 -0.000654  0.004615  0.008220 -0.000521    9.261124  \n",
       "2015-07-30  0.000000 -0.001060 -0.004825  0.001216    3.391240  "
      ]
     },
     "execution_count": 83,
     "metadata": {},
     "output_type": "execute_result"
    }
   ],
   "source": [
    "AllData.head()"
   ]
  },
  {
   "cell_type": "markdown",
   "metadata": {},
   "source": [
    "SMA Strategy"
   ]
  },
  {
   "cell_type": "code",
   "execution_count": 86,
   "metadata": {},
   "outputs": [],
   "source": [
    "#Simple moving average strategy with broadly tuned parameters validated on \"2015-07-24\" to \"2017-06-01\"\n",
    "# Buy when asset returns are away from their correlations and returns are positive.\n",
    "# Sell when turbulence falls and the days returns were negative\n",
    "\n",
    "def SMA(data,ticker):\n",
    "    timing = 1\n",
    "    SMA_len =14\n",
    "    hold = 'cash'\n",
    "    acct_value = [1]*(SMA_len+1)\n",
    "    trades=[]\n",
    "    count = 0\n",
    "    \n",
    "    for n in range (SMA_len, len(data)):\n",
    "        turb = data['Turbulence'][n]\n",
    "        SMA = data['Turbulence'][n-SMA_len:n-1].mean()\n",
    "        \n",
    "        if ((turb < SMA) & (hold =='stock') & (data[ticker][n]<0)): #the sell signal: dramatic turb increase and SPY fell during the day\n",
    "            hold ='cash'\n",
    "            close_position = acct_value[n]\n",
    "            if close_position > open_position:\n",
    "                trades.append(1)\n",
    "                #print(n,'Sell')\n",
    "            else: \n",
    "                trades.append(0)\n",
    "                #print(n,'Sell')\n",
    "        \n",
    "        elif ((turb > 2*SMA) & (hold =='cash')&(data[ticker][n]>0)): #the buy signal\n",
    "            hold = 'stock'\n",
    "            open_position = acct_value[n]\n",
    "            timing = acct_value[n]*(data[ticker][n]+1)\n",
    "            #print(n, 'Buy')\n",
    "            count+=1\n",
    "        \n",
    "        elif (hold =='stock'): #holding\n",
    "            timing = acct_value[n]*(data[ticker][n]+1)\n",
    "            count+=1\n",
    "        \n",
    "        if n != (len(data)-1):\n",
    "            acct_value.append(timing)\n",
    "            \n",
    "    return(timing, acct_value, trades,count)"
   ]
  },
  {
   "cell_type": "code",
   "execution_count": 118,
   "metadata": {},
   "outputs": [
    {
     "name": "stdout",
     "output_type": "stream",
     "text": [
      "Includes validation data\n",
      "Final Account value =  1.2628102721628818\n",
      "Percent of trades that made money =  0.9333333333333333\n",
      "Number of days in the market =  96\n"
     ]
    }
   ],
   "source": [
    "final_val, daily_val, trades, count = SMA(AllData,'SPY')\n",
    "print('Includes validation data')\n",
    "print('Final Account value = ', final_val)\n",
    "print('Percent of trades that made money = ', np.count_nonzero(trades)/len(trades))\n",
    "print( 'Number of days in the market = ', count)"
   ]
  },
  {
   "cell_type": "code",
   "execution_count": 89,
   "metadata": {},
   "outputs": [
    {
     "name": "stdout",
     "output_type": "stream",
     "text": [
      "0 467\n"
     ]
    }
   ],
   "source": [
    "#indexes to drop / represents Validation set. Done manually to avoid error due to weekends \n",
    "print(AllData.index.get_loc(\"2015-07-24\"), AllData.index.get_loc(\"2017-06-01\"))"
   ]
  },
  {
   "cell_type": "code",
   "execution_count": 90,
   "metadata": {},
   "outputs": [
    {
     "name": "stderr",
     "output_type": "stream",
     "text": [
      "C:\\Users\\avid\\anaconda3\\lib\\site-packages\\ipykernel_launcher.py:2: SettingWithCopyWarning: \n",
      "A value is trying to be set on a copy of a slice from a DataFrame.\n",
      "Try using .loc[row_indexer,col_indexer] = value instead\n",
      "\n",
      "See the caveats in the documentation: https://pandas.pydata.org/pandas-docs/stable/user_guide/indexing.html#returning-a-view-versus-a-copy\n",
      "  \n",
      "C:\\Users\\avid\\anaconda3\\lib\\site-packages\\ipykernel_launcher.py:3: SettingWithCopyWarning: \n",
      "A value is trying to be set on a copy of a slice from a DataFrame.\n",
      "Try using .loc[row_indexer,col_indexer] = value instead\n",
      "\n",
      "See the caveats in the documentation: https://pandas.pydata.org/pandas-docs/stable/user_guide/indexing.html#returning-a-view-versus-a-copy\n",
      "  This is separate from the ipykernel package so we can avoid doing imports until\n"
     ]
    }
   ],
   "source": [
    "#data manipulations to get to a dataframe with account returns included and with dates matching up\n",
    "AllData['daily_val'] = pd.DataFrame(daily_val).set_index(AllData.index)\n",
    "AllData['acct_returns'] = AllData['daily_val'].pct_change()\n",
    "\n",
    "#subtract out training set and those lost due to the initial SMA length where the strategy won't trade\n",
    "out_of_sample = AllData.drop(AllData.index[0:467+15])"
   ]
  },
  {
   "cell_type": "code",
   "execution_count": 91,
   "metadata": {},
   "outputs": [
    {
     "data": {
      "text/html": [
       "<div>\n",
       "<style scoped>\n",
       "    .dataframe tbody tr th:only-of-type {\n",
       "        vertical-align: middle;\n",
       "    }\n",
       "\n",
       "    .dataframe tbody tr th {\n",
       "        vertical-align: top;\n",
       "    }\n",
       "\n",
       "    .dataframe thead th {\n",
       "        text-align: right;\n",
       "    }\n",
       "</style>\n",
       "<table border=\"1\" class=\"dataframe\">\n",
       "  <thead>\n",
       "    <tr style=\"text-align: right;\">\n",
       "      <th></th>\n",
       "      <th>SPY</th>\n",
       "      <th>TLT</th>\n",
       "      <th>GLD</th>\n",
       "      <th>GBTC</th>\n",
       "      <th>DIA</th>\n",
       "      <th>JNK</th>\n",
       "      <th>SPSB</th>\n",
       "      <th>SPDW</th>\n",
       "      <th>SPEM</th>\n",
       "      <th>SPAB</th>\n",
       "      <th>Turbulence</th>\n",
       "      <th>daily_val</th>\n",
       "      <th>acct_returns</th>\n",
       "    </tr>\n",
       "  </thead>\n",
       "  <tbody>\n",
       "    <tr>\n",
       "      <th>2017-06-22</th>\n",
       "      <td>-0.000453</td>\n",
       "      <td>0.002195</td>\n",
       "      <td>0.003375</td>\n",
       "      <td>-0.024977</td>\n",
       "      <td>-0.000748</td>\n",
       "      <td>0.002441</td>\n",
       "      <td>0.000326</td>\n",
       "      <td>0.002763</td>\n",
       "      <td>0.003478</td>\n",
       "      <td>0.001036</td>\n",
       "      <td>1.143770</td>\n",
       "      <td>1.067298</td>\n",
       "      <td>0.0</td>\n",
       "    </tr>\n",
       "    <tr>\n",
       "      <th>2017-06-23</th>\n",
       "      <td>0.001194</td>\n",
       "      <td>-0.000469</td>\n",
       "      <td>0.004289</td>\n",
       "      <td>0.033398</td>\n",
       "      <td>0.000047</td>\n",
       "      <td>0.003788</td>\n",
       "      <td>0.000000</td>\n",
       "      <td>0.002067</td>\n",
       "      <td>0.003165</td>\n",
       "      <td>-0.001552</td>\n",
       "      <td>2.295803</td>\n",
       "      <td>1.067298</td>\n",
       "      <td>0.0</td>\n",
       "    </tr>\n",
       "    <tr>\n",
       "      <th>2017-06-26</th>\n",
       "      <td>0.000658</td>\n",
       "      <td>0.003756</td>\n",
       "      <td>-0.008959</td>\n",
       "      <td>-0.106092</td>\n",
       "      <td>0.000608</td>\n",
       "      <td>0.001348</td>\n",
       "      <td>0.000000</td>\n",
       "      <td>0.001031</td>\n",
       "      <td>0.010365</td>\n",
       "      <td>0.002418</td>\n",
       "      <td>3.651595</td>\n",
       "      <td>1.067298</td>\n",
       "      <td>0.0</td>\n",
       "    </tr>\n",
       "    <tr>\n",
       "      <th>2017-06-27</th>\n",
       "      <td>-0.008056</td>\n",
       "      <td>-0.010681</td>\n",
       "      <td>0.003802</td>\n",
       "      <td>0.012634</td>\n",
       "      <td>-0.004395</td>\n",
       "      <td>-0.002423</td>\n",
       "      <td>0.000000</td>\n",
       "      <td>0.000343</td>\n",
       "      <td>-0.013381</td>\n",
       "      <td>-0.003101</td>\n",
       "      <td>3.770333</td>\n",
       "      <td>1.067298</td>\n",
       "      <td>0.0</td>\n",
       "    </tr>\n",
       "    <tr>\n",
       "      <th>2017-06-28</th>\n",
       "      <td>0.008950</td>\n",
       "      <td>-0.003310</td>\n",
       "      <td>0.000758</td>\n",
       "      <td>0.038437</td>\n",
       "      <td>0.006152</td>\n",
       "      <td>0.003508</td>\n",
       "      <td>0.000326</td>\n",
       "      <td>0.008239</td>\n",
       "      <td>0.010850</td>\n",
       "      <td>0.000173</td>\n",
       "      <td>1.994196</td>\n",
       "      <td>1.067298</td>\n",
       "      <td>0.0</td>\n",
       "    </tr>\n",
       "    <tr>\n",
       "      <th>...</th>\n",
       "      <td>...</td>\n",
       "      <td>...</td>\n",
       "      <td>...</td>\n",
       "      <td>...</td>\n",
       "      <td>...</td>\n",
       "      <td>...</td>\n",
       "      <td>...</td>\n",
       "      <td>...</td>\n",
       "      <td>...</td>\n",
       "      <td>...</td>\n",
       "      <td>...</td>\n",
       "      <td>...</td>\n",
       "      <td>...</td>\n",
       "    </tr>\n",
       "    <tr>\n",
       "      <th>2021-01-26</th>\n",
       "      <td>-0.001561</td>\n",
       "      <td>-0.001887</td>\n",
       "      <td>-0.002471</td>\n",
       "      <td>-0.047292</td>\n",
       "      <td>-0.000840</td>\n",
       "      <td>-0.000551</td>\n",
       "      <td>0.000000</td>\n",
       "      <td>0.000000</td>\n",
       "      <td>-0.003746</td>\n",
       "      <td>-0.000326</td>\n",
       "      <td>1.125400</td>\n",
       "      <td>1.262810</td>\n",
       "      <td>0.0</td>\n",
       "    </tr>\n",
       "    <tr>\n",
       "      <th>2021-01-27</th>\n",
       "      <td>-0.024440</td>\n",
       "      <td>0.002543</td>\n",
       "      <td>-0.006336</td>\n",
       "      <td>-0.004002</td>\n",
       "      <td>-0.019813</td>\n",
       "      <td>-0.003123</td>\n",
       "      <td>-0.000319</td>\n",
       "      <td>-0.024341</td>\n",
       "      <td>-0.025437</td>\n",
       "      <td>0.000327</td>\n",
       "      <td>3.747018</td>\n",
       "      <td>1.262810</td>\n",
       "      <td>0.0</td>\n",
       "    </tr>\n",
       "    <tr>\n",
       "      <th>2021-01-28</th>\n",
       "      <td>0.008600</td>\n",
       "      <td>-0.005528</td>\n",
       "      <td>0.000927</td>\n",
       "      <td>0.072829</td>\n",
       "      <td>0.009266</td>\n",
       "      <td>0.002672</td>\n",
       "      <td>0.000637</td>\n",
       "      <td>0.008512</td>\n",
       "      <td>0.006128</td>\n",
       "      <td>-0.000979</td>\n",
       "      <td>1.436661</td>\n",
       "      <td>1.262810</td>\n",
       "      <td>0.0</td>\n",
       "    </tr>\n",
       "    <tr>\n",
       "      <th>2021-01-29</th>\n",
       "      <td>-0.020020</td>\n",
       "      <td>-0.006016</td>\n",
       "      <td>-0.000405</td>\n",
       "      <td>0.031060</td>\n",
       "      <td>-0.020453</td>\n",
       "      <td>-0.003951</td>\n",
       "      <td>0.000000</td>\n",
       "      <td>-0.022119</td>\n",
       "      <td>-0.023235</td>\n",
       "      <td>-0.001307</td>\n",
       "      <td>3.120964</td>\n",
       "      <td>1.262810</td>\n",
       "      <td>0.0</td>\n",
       "    </tr>\n",
       "    <tr>\n",
       "      <th>2021-02-01</th>\n",
       "      <td>0.016646</td>\n",
       "      <td>0.000000</td>\n",
       "      <td>0.009385</td>\n",
       "      <td>-0.021332</td>\n",
       "      <td>0.007371</td>\n",
       "      <td>0.000461</td>\n",
       "      <td>-0.000637</td>\n",
       "      <td>0.014583</td>\n",
       "      <td>0.027021</td>\n",
       "      <td>-0.000654</td>\n",
       "      <td>4.502227</td>\n",
       "      <td>1.262810</td>\n",
       "      <td>0.0</td>\n",
       "    </tr>\n",
       "  </tbody>\n",
       "</table>\n",
       "<p>909 rows × 13 columns</p>\n",
       "</div>"
      ],
      "text/plain": [
       "                 SPY       TLT       GLD      GBTC       DIA       JNK  \\\n",
       "2017-06-22 -0.000453  0.002195  0.003375 -0.024977 -0.000748  0.002441   \n",
       "2017-06-23  0.001194 -0.000469  0.004289  0.033398  0.000047  0.003788   \n",
       "2017-06-26  0.000658  0.003756 -0.008959 -0.106092  0.000608  0.001348   \n",
       "2017-06-27 -0.008056 -0.010681  0.003802  0.012634 -0.004395 -0.002423   \n",
       "2017-06-28  0.008950 -0.003310  0.000758  0.038437  0.006152  0.003508   \n",
       "...              ...       ...       ...       ...       ...       ...   \n",
       "2021-01-26 -0.001561 -0.001887 -0.002471 -0.047292 -0.000840 -0.000551   \n",
       "2021-01-27 -0.024440  0.002543 -0.006336 -0.004002 -0.019813 -0.003123   \n",
       "2021-01-28  0.008600 -0.005528  0.000927  0.072829  0.009266  0.002672   \n",
       "2021-01-29 -0.020020 -0.006016 -0.000405  0.031060 -0.020453 -0.003951   \n",
       "2021-02-01  0.016646  0.000000  0.009385 -0.021332  0.007371  0.000461   \n",
       "\n",
       "                SPSB      SPDW      SPEM      SPAB  Turbulence  daily_val  \\\n",
       "2017-06-22  0.000326  0.002763  0.003478  0.001036    1.143770   1.067298   \n",
       "2017-06-23  0.000000  0.002067  0.003165 -0.001552    2.295803   1.067298   \n",
       "2017-06-26  0.000000  0.001031  0.010365  0.002418    3.651595   1.067298   \n",
       "2017-06-27  0.000000  0.000343 -0.013381 -0.003101    3.770333   1.067298   \n",
       "2017-06-28  0.000326  0.008239  0.010850  0.000173    1.994196   1.067298   \n",
       "...              ...       ...       ...       ...         ...        ...   \n",
       "2021-01-26  0.000000  0.000000 -0.003746 -0.000326    1.125400   1.262810   \n",
       "2021-01-27 -0.000319 -0.024341 -0.025437  0.000327    3.747018   1.262810   \n",
       "2021-01-28  0.000637  0.008512  0.006128 -0.000979    1.436661   1.262810   \n",
       "2021-01-29  0.000000 -0.022119 -0.023235 -0.001307    3.120964   1.262810   \n",
       "2021-02-01 -0.000637  0.014583  0.027021 -0.000654    4.502227   1.262810   \n",
       "\n",
       "            acct_returns  \n",
       "2017-06-22           0.0  \n",
       "2017-06-23           0.0  \n",
       "2017-06-26           0.0  \n",
       "2017-06-27           0.0  \n",
       "2017-06-28           0.0  \n",
       "...                  ...  \n",
       "2021-01-26           0.0  \n",
       "2021-01-27           0.0  \n",
       "2021-01-28           0.0  \n",
       "2021-01-29           0.0  \n",
       "2021-02-01           0.0  \n",
       "\n",
       "[909 rows x 13 columns]"
      ]
     },
     "execution_count": 91,
     "metadata": {},
     "output_type": "execute_result"
    }
   ],
   "source": [
    "out_of_sample"
   ]
  },
  {
   "cell_type": "code",
   "execution_count": 92,
   "metadata": {},
   "outputs": [],
   "source": [
    "#get price data from SPY and account returns\n",
    "hold = [1]\n",
    "turb_strat = [1]\n",
    "tick = 'SPY'\n",
    "for n in range(1,len(out_of_sample)):\n",
    "#    if n == 0:\n",
    "#        hold.append(1 * (out_of_sample[tick].iloc[n]+1))\n",
    "#        turb_strat.append(1 * (out_of_sample['acct_returns'].iloc[n]+1))\n",
    "        \n",
    "    hold.append(hold[n-1] * (out_of_sample[tick][n]+1))\n",
    "    turb_strat.append(turb_strat[n-1] * (out_of_sample['acct_returns'][n]+1))\n",
    "\n",
    "#hold = pd.DataFrame(hold)[:-1].set_index(validation.index)\n",
    "#turb_strat = pd.DataFrame(turb_strat)[:-1].set_index(validation.index)\n",
    "\n",
    "strats = pd.DataFrame(hold).set_index(out_of_sample.index).rename(columns={0: \"hold\"})\n",
    "strats['turb_strat'] = pd.DataFrame(turb_strat).set_index(out_of_sample.index)"
   ]
  },
  {
   "cell_type": "code",
   "execution_count": 94,
   "metadata": {},
   "outputs": [
    {
     "data": {
      "text/plain": [
       "<matplotlib.axes._subplots.AxesSubplot at 0x2380db72108>"
      ]
     },
     "execution_count": 94,
     "metadata": {},
     "output_type": "execute_result"
    },
    {
     "data": {
      "image/png": "[encoded data removed]",
      "text/plain": [
       "<Figure size 432x288 with 1 Axes>"
      ]
     },
     "metadata": {
      "needs_background": "light"
     },
     "output_type": "display_data"
    }
   ],
   "source": [
    "strats.plot()"
   ]
  },
  {
   "cell_type": "code",
   "execution_count": 95,
   "metadata": {},
   "outputs": [
    {
     "data": {
      "text/plain": [
       "<matplotlib.axes._subplots.AxesSubplot at 0x2380c7f6408>"
      ]
     },
     "execution_count": 95,
     "metadata": {},
     "output_type": "execute_result"
    },
    {
     "data": {
      "image/png": "[encoded data removed]",
      "text/plain": [
       "<Figure size 432x288 with 1 Axes>"
      ]
     },
     "metadata": {
      "needs_background": "light"
     },
     "output_type": "display_data"
    }
   ],
   "source": [
    "#relative performance\n",
    "pd.DataFrame(strats['turb_strat']-strats['hold']).plot()"
   ]
  },
  {
   "cell_type": "code",
   "execution_count": 108,
   "metadata": {
    "scrolled": true
   },
   "outputs": [
    {
     "data": {
      "text/plain": [
       "hold          0.012439\n",
       "turb_strat    0.004198\n",
       "dtype: float64"
      ]
     },
     "execution_count": 108,
     "metadata": {},
     "output_type": "execute_result"
    }
   ],
   "source": [
    "#average of monthly returns for each strategy\n",
    "strats.pct_change().resample(\"M\").apply(lambda x: ((x + 1).cumprod() - 1).last(\"D\")).mean()"
   ]
  },
  {
   "cell_type": "code",
   "execution_count": 109,
   "metadata": {},
   "outputs": [
    {
     "data": {
      "text/plain": [
       "hold          0.048378\n",
       "turb_strat    0.029781\n",
       "dtype: float64"
      ]
     },
     "execution_count": 109,
     "metadata": {},
     "output_type": "execute_result"
    }
   ],
   "source": [
    "#std deviation of monthly returns\n",
    "strats.pct_change().resample(\"M\").apply(lambda x: ((x + 1).cumprod() - 1).last(\"D\")).std()"
   ]
  },
  {
   "cell_type": "code",
   "execution_count": null,
   "metadata": {},
   "outputs": [],
   "source": [
    "# Takeaway: with parameters of the SMA only broadly tuned tuned to \"2015-07-24\" to \"2017-06-01\",the strategy was blown \n",
    "# out of the water when it reached March 2020. I was hoping it would catch the huge increase that come after \n",
    "# massive declines but I suspect that the 14 day turbulence SMA rose too much and the turbulance signal \n",
    "# fell too quickly prompting the sell signal and so the strategy missed out on the massive rally.\n",
    "\n",
    "\n",
    "# Next steps: compare turbulance to Vix sma strategy.\n",
    "# consider combining this tail risk hedging strategy with a buy and hold strategy to std of returns and cumulative returns\n",
    "# Gaining access to higher frequency data could improve the efficacy of this strategy"
   ]
  }
 ],
 "metadata": {
  "kernelspec": {
   "display_name": "Python 3",
   "language": "python",
   "name": "python3"
  },
  "language_info": {
   "codemirror_mode": {
    "name": "ipython",
    "version": 3
   },
   "file_extension": ".py",
   "mimetype": "text/x-python",
   "name": "python",
   "nbconvert_exporter": "python",
   "pygments_lexer": "ipython3",
   "version": "3.7.6"
  }
 },
 "nbformat": 4,
 "nbformat_minor": 4
}
