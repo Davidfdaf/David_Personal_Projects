{
 "cells": [
  {
   "cell_type": "code",
   "execution_count": 2,
   "metadata": {},
   "outputs": [],
   "source": [
    "from pandas_datareader import data, wb\n",
    "import pandas as pd\n",
    "import numpy as np\n",
    "from datetime import datetime\n",
    "import seaborn as sns\n",
    "import scipy.stats as stats\n",
    "%matplotlib inline"
   ]
  },
  {
   "cell_type": "code",
   "execution_count": 3,
   "metadata": {},
   "outputs": [],
   "source": [
    "start = datetime(2003,1,1)\n",
    "end = datetime(2020,1,1)\n",
    "TLT = data.DataReader(\"TLT\", 'yahoo', start, end)\n",
    "IVV= data.DataReader(\"IVV\", 'yahoo', start, end)"
   ]
  },
  {
   "cell_type": "code",
   "execution_count": 4,
   "metadata": {},
   "outputs": [
    {
     "data": {
      "text/plain": [
       "<matplotlib.axes._subplots.AxesSubplot at 0x1b0dd6be6c8>"
      ]
     },
     "execution_count": 4,
     "metadata": {},
     "output_type": "execute_result"
    },
    {
     "data": {
      "image/png": "[encoded data removed]",
      "text/plain": [
       "<Figure size 432x288 with 1 Axes>"
      ]
     },
     "metadata": {
      "needs_background": "light"
     },
     "output_type": "display_data"
    }
   ],
   "source": [
    "IVV[\"Close\"].T.plot()"
   ]
  },
  {
   "cell_type": "code",
   "execution_count": 5,
   "metadata": {},
   "outputs": [],
   "source": [
    "returns=pd.DataFrame()\n",
    "tickers = ['TLT','IVV']\n",
    "stocks=pd.concat([TLT,IVV], axis=1, keys=[\"TLT\",\"IVV\"])\n",
    "stocks.columns.names = ['Ticker','Stock Info']"
   ]
  },
  {
   "cell_type": "code",
   "execution_count": 6,
   "metadata": {},
   "outputs": [
    {
     "data": {
      "text/html": [
       "<div>\n",
       "<style scoped>\n",
       "    .dataframe tbody tr th:only-of-type {\n",
       "        vertical-align: middle;\n",
       "    }\n",
       "\n",
       "    .dataframe tbody tr th {\n",
       "        vertical-align: top;\n",
       "    }\n",
       "\n",
       "    .dataframe thead tr th {\n",
       "        text-align: left;\n",
       "    }\n",
       "\n",
       "    .dataframe thead tr:last-of-type th {\n",
       "        text-align: right;\n",
       "    }\n",
       "</style>\n",
       "<table border=\"1\" class=\"dataframe\">\n",
       "  <thead>\n",
       "    <tr>\n",
       "      <th>Ticker</th>\n",
       "      <th colspan=\"6\" halign=\"left\">TLT</th>\n",
       "      <th colspan=\"6\" halign=\"left\">IVV</th>\n",
       "    </tr>\n",
       "    <tr>\n",
       "      <th>Stock Info</th>\n",
       "      <th>High</th>\n",
       "      <th>Low</th>\n",
       "      <th>Open</th>\n",
       "      <th>Close</th>\n",
       "      <th>Volume</th>\n",
       "      <th>Adj Close</th>\n",
       "      <th>High</th>\n",
       "      <th>Low</th>\n",
       "      <th>Open</th>\n",
       "      <th>Close</th>\n",
       "      <th>Volume</th>\n",
       "      <th>Adj Close</th>\n",
       "    </tr>\n",
       "    <tr>\n",
       "      <th>Date</th>\n",
       "      <th></th>\n",
       "      <th></th>\n",
       "      <th></th>\n",
       "      <th></th>\n",
       "      <th></th>\n",
       "      <th></th>\n",
       "      <th></th>\n",
       "      <th></th>\n",
       "      <th></th>\n",
       "      <th></th>\n",
       "      <th></th>\n",
       "      <th></th>\n",
       "    </tr>\n",
       "  </thead>\n",
       "  <tbody>\n",
       "    <tr>\n",
       "      <th>2003-01-02</th>\n",
       "      <td>87.900002</td>\n",
       "      <td>86.209999</td>\n",
       "      <td>87.699997</td>\n",
       "      <td>86.279999</td>\n",
       "      <td>192100.0</td>\n",
       "      <td>46.570705</td>\n",
       "      <td>91.180000</td>\n",
       "      <td>88.629997</td>\n",
       "      <td>89.190002</td>\n",
       "      <td>91.160004</td>\n",
       "      <td>215200.0</td>\n",
       "      <td>64.081657</td>\n",
       "    </tr>\n",
       "    <tr>\n",
       "      <th>2003-01-03</th>\n",
       "      <td>86.540001</td>\n",
       "      <td>85.830002</td>\n",
       "      <td>86.150002</td>\n",
       "      <td>86.480003</td>\n",
       "      <td>311200.0</td>\n",
       "      <td>46.678638</td>\n",
       "      <td>91.370003</td>\n",
       "      <td>90.510002</td>\n",
       "      <td>91.040001</td>\n",
       "      <td>91.370003</td>\n",
       "      <td>471400.0</td>\n",
       "      <td>64.229263</td>\n",
       "    </tr>\n",
       "    <tr>\n",
       "      <th>2003-01-06</th>\n",
       "      <td>86.290001</td>\n",
       "      <td>85.809998</td>\n",
       "      <td>86.169998</td>\n",
       "      <td>86.250000</td>\n",
       "      <td>35600.0</td>\n",
       "      <td>46.554504</td>\n",
       "      <td>93.480003</td>\n",
       "      <td>91.290001</td>\n",
       "      <td>91.290001</td>\n",
       "      <td>93.070000</td>\n",
       "      <td>1456100.0</td>\n",
       "      <td>65.424286</td>\n",
       "    </tr>\n",
       "    <tr>\n",
       "      <th>2003-01-07</th>\n",
       "      <td>86.750000</td>\n",
       "      <td>86.169998</td>\n",
       "      <td>86.190002</td>\n",
       "      <td>86.559998</td>\n",
       "      <td>69800.0</td>\n",
       "      <td>46.721840</td>\n",
       "      <td>93.349998</td>\n",
       "      <td>92.169998</td>\n",
       "      <td>92.910004</td>\n",
       "      <td>92.510002</td>\n",
       "      <td>260000.0</td>\n",
       "      <td>65.030678</td>\n",
       "    </tr>\n",
       "    <tr>\n",
       "      <th>2003-01-08</th>\n",
       "      <td>87.139999</td>\n",
       "      <td>86.779999</td>\n",
       "      <td>86.879997</td>\n",
       "      <td>86.989998</td>\n",
       "      <td>160100.0</td>\n",
       "      <td>46.953926</td>\n",
       "      <td>92.339996</td>\n",
       "      <td>91.089996</td>\n",
       "      <td>91.970001</td>\n",
       "      <td>91.430000</td>\n",
       "      <td>142500.0</td>\n",
       "      <td>64.271423</td>\n",
       "    </tr>\n",
       "    <tr>\n",
       "      <th>...</th>\n",
       "      <td>...</td>\n",
       "      <td>...</td>\n",
       "      <td>...</td>\n",
       "      <td>...</td>\n",
       "      <td>...</td>\n",
       "      <td>...</td>\n",
       "      <td>...</td>\n",
       "      <td>...</td>\n",
       "      <td>...</td>\n",
       "      <td>...</td>\n",
       "      <td>...</td>\n",
       "      <td>...</td>\n",
       "    </tr>\n",
       "    <tr>\n",
       "      <th>2019-12-24</th>\n",
       "      <td>137.059998</td>\n",
       "      <td>135.889999</td>\n",
       "      <td>135.919998</td>\n",
       "      <td>136.839996</td>\n",
       "      <td>4667400.0</td>\n",
       "      <td>135.400848</td>\n",
       "      <td>322.929993</td>\n",
       "      <td>322.309998</td>\n",
       "      <td>322.869995</td>\n",
       "      <td>322.649994</td>\n",
       "      <td>2716300.0</td>\n",
       "      <td>319.316895</td>\n",
       "    </tr>\n",
       "    <tr>\n",
       "      <th>2019-12-26</th>\n",
       "      <td>137.220001</td>\n",
       "      <td>136.509995</td>\n",
       "      <td>136.910004</td>\n",
       "      <td>137.169998</td>\n",
       "      <td>5290200.0</td>\n",
       "      <td>135.727356</td>\n",
       "      <td>324.329987</td>\n",
       "      <td>323.019989</td>\n",
       "      <td>323.059998</td>\n",
       "      <td>324.320007</td>\n",
       "      <td>2847400.0</td>\n",
       "      <td>320.969635</td>\n",
       "    </tr>\n",
       "    <tr>\n",
       "      <th>2019-12-27</th>\n",
       "      <td>137.630005</td>\n",
       "      <td>137.289993</td>\n",
       "      <td>137.440002</td>\n",
       "      <td>137.320007</td>\n",
       "      <td>7300500.0</td>\n",
       "      <td>135.875809</td>\n",
       "      <td>325.190002</td>\n",
       "      <td>323.709991</td>\n",
       "      <td>325.190002</td>\n",
       "      <td>324.260010</td>\n",
       "      <td>5091400.0</td>\n",
       "      <td>320.910248</td>\n",
       "    </tr>\n",
       "    <tr>\n",
       "      <th>2019-12-30</th>\n",
       "      <td>136.899994</td>\n",
       "      <td>135.660004</td>\n",
       "      <td>135.889999</td>\n",
       "      <td>136.820007</td>\n",
       "      <td>7979700.0</td>\n",
       "      <td>135.381058</td>\n",
       "      <td>324.489990</td>\n",
       "      <td>321.959991</td>\n",
       "      <td>324.410004</td>\n",
       "      <td>322.510010</td>\n",
       "      <td>3511400.0</td>\n",
       "      <td>319.178345</td>\n",
       "    </tr>\n",
       "    <tr>\n",
       "      <th>2019-12-31</th>\n",
       "      <td>136.460007</td>\n",
       "      <td>135.380005</td>\n",
       "      <td>136.210007</td>\n",
       "      <td>135.479996</td>\n",
       "      <td>10707400.0</td>\n",
       "      <td>134.055130</td>\n",
       "      <td>323.559998</td>\n",
       "      <td>321.570007</td>\n",
       "      <td>321.959991</td>\n",
       "      <td>323.239990</td>\n",
       "      <td>3128900.0</td>\n",
       "      <td>319.900787</td>\n",
       "    </tr>\n",
       "  </tbody>\n",
       "</table>\n",
       "<p>4279 rows × 12 columns</p>\n",
       "</div>"
      ],
      "text/plain": [
       "Ticker             TLT                                                  \\\n",
       "Stock Info        High         Low        Open       Close      Volume   \n",
       "Date                                                                     \n",
       "2003-01-02   87.900002   86.209999   87.699997   86.279999    192100.0   \n",
       "2003-01-03   86.540001   85.830002   86.150002   86.480003    311200.0   \n",
       "2003-01-06   86.290001   85.809998   86.169998   86.250000     35600.0   \n",
       "2003-01-07   86.750000   86.169998   86.190002   86.559998     69800.0   \n",
       "2003-01-08   87.139999   86.779999   86.879997   86.989998    160100.0   \n",
       "...                ...         ...         ...         ...         ...   \n",
       "2019-12-24  137.059998  135.889999  135.919998  136.839996   4667400.0   \n",
       "2019-12-26  137.220001  136.509995  136.910004  137.169998   5290200.0   \n",
       "2019-12-27  137.630005  137.289993  137.440002  137.320007   7300500.0   \n",
       "2019-12-30  136.899994  135.660004  135.889999  136.820007   7979700.0   \n",
       "2019-12-31  136.460007  135.380005  136.210007  135.479996  10707400.0   \n",
       "\n",
       "Ticker                         IVV                                      \\\n",
       "Stock Info   Adj Close        High         Low        Open       Close   \n",
       "Date                                                                     \n",
       "2003-01-02   46.570705   91.180000   88.629997   89.190002   91.160004   \n",
       "2003-01-03   46.678638   91.370003   90.510002   91.040001   91.370003   \n",
       "2003-01-06   46.554504   93.480003   91.290001   91.290001   93.070000   \n",
       "2003-01-07   46.721840   93.349998   92.169998   92.910004   92.510002   \n",
       "2003-01-08   46.953926   92.339996   91.089996   91.970001   91.430000   \n",
       "...                ...         ...         ...         ...         ...   \n",
       "2019-12-24  135.400848  322.929993  322.309998  322.869995  322.649994   \n",
       "2019-12-26  135.727356  324.329987  323.019989  323.059998  324.320007   \n",
       "2019-12-27  135.875809  325.190002  323.709991  325.190002  324.260010   \n",
       "2019-12-30  135.381058  324.489990  321.959991  324.410004  322.510010   \n",
       "2019-12-31  134.055130  323.559998  321.570007  321.959991  323.239990   \n",
       "\n",
       "Ticker                             \n",
       "Stock Info     Volume   Adj Close  \n",
       "Date                               \n",
       "2003-01-02   215200.0   64.081657  \n",
       "2003-01-03   471400.0   64.229263  \n",
       "2003-01-06  1456100.0   65.424286  \n",
       "2003-01-07   260000.0   65.030678  \n",
       "2003-01-08   142500.0   64.271423  \n",
       "...               ...         ...  \n",
       "2019-12-24  2716300.0  319.316895  \n",
       "2019-12-26  2847400.0  320.969635  \n",
       "2019-12-27  5091400.0  320.910248  \n",
       "2019-12-30  3511400.0  319.178345  \n",
       "2019-12-31  3128900.0  319.900787  \n",
       "\n",
       "[4279 rows x 12 columns]"
      ]
     },
     "execution_count": 6,
     "metadata": {},
     "output_type": "execute_result"
    }
   ],
   "source": [
    "stocks"
   ]
  },
  {
   "cell_type": "code",
   "execution_count": 7,
   "metadata": {},
   "outputs": [
    {
     "data": {
      "text/html": [
       "<div>\n",
       "<style scoped>\n",
       "    .dataframe tbody tr th:only-of-type {\n",
       "        vertical-align: middle;\n",
       "    }\n",
       "\n",
       "    .dataframe tbody tr th {\n",
       "        vertical-align: top;\n",
       "    }\n",
       "\n",
       "    .dataframe thead th {\n",
       "        text-align: right;\n",
       "    }\n",
       "</style>\n",
       "<table border=\"1\" class=\"dataframe\">\n",
       "  <thead>\n",
       "    <tr style=\"text-align: right;\">\n",
       "      <th></th>\n",
       "      <th>TLT Return</th>\n",
       "      <th>IVV Return</th>\n",
       "    </tr>\n",
       "    <tr>\n",
       "      <th>Date</th>\n",
       "      <th></th>\n",
       "      <th></th>\n",
       "    </tr>\n",
       "  </thead>\n",
       "  <tbody>\n",
       "    <tr>\n",
       "      <th>2003-01-02</th>\n",
       "      <td>NaN</td>\n",
       "      <td>NaN</td>\n",
       "    </tr>\n",
       "    <tr>\n",
       "      <th>2003-01-03</th>\n",
       "      <td>0.002318</td>\n",
       "      <td>0.002304</td>\n",
       "    </tr>\n",
       "    <tr>\n",
       "      <th>2003-01-06</th>\n",
       "      <td>-0.002660</td>\n",
       "      <td>0.018606</td>\n",
       "    </tr>\n",
       "    <tr>\n",
       "      <th>2003-01-07</th>\n",
       "      <td>0.003594</td>\n",
       "      <td>-0.006017</td>\n",
       "    </tr>\n",
       "    <tr>\n",
       "      <th>2003-01-08</th>\n",
       "      <td>0.004968</td>\n",
       "      <td>-0.011674</td>\n",
       "    </tr>\n",
       "  </tbody>\n",
       "</table>\n",
       "</div>"
      ],
      "text/plain": [
       "            TLT Return  IVV Return\n",
       "Date                              \n",
       "2003-01-02         NaN         NaN\n",
       "2003-01-03    0.002318    0.002304\n",
       "2003-01-06   -0.002660    0.018606\n",
       "2003-01-07    0.003594   -0.006017\n",
       "2003-01-08    0.004968   -0.011674"
      ]
     },
     "execution_count": 7,
     "metadata": {},
     "output_type": "execute_result"
    }
   ],
   "source": [
    "for tick in tickers:\n",
    "    returns[tick+' Return'] = stocks[tick]['Close'].pct_change()\n",
    "returns.head()"
   ]
  },
  {
   "cell_type": "code",
   "execution_count": null,
   "metadata": {},
   "outputs": [],
   "source": []
  },
  {
   "cell_type": "code",
   "execution_count": 9,
   "metadata": {},
   "outputs": [
    {
     "data": {
      "text/plain": [
       "<matplotlib.axes._subplots.AxesSubplot at 0x1b0dd9fb7c8>"
      ]
     },
     "execution_count": 9,
     "metadata": {},
     "output_type": "execute_result"
    },
    {
     "data": {
      "image/png": "[encoded data removed]",
      "text/plain": [
       "<Figure size 432x288 with 1 Axes>"
      ]
     },
     "metadata": {
      "needs_background": "light"
     },
     "output_type": "display_data"
    }
   ],
   "source": [
    "sns.distplot(returns['TLT Return'],color='green',bins=100)"
   ]
  },
  {
   "cell_type": "code",
   "execution_count": 10,
   "metadata": {},
   "outputs": [
    {
     "data": {
      "text/plain": [
       "<matplotlib.axes._subplots.AxesSubplot at 0x1b0ddb59848>"
      ]
     },
     "execution_count": 10,
     "metadata": {},
     "output_type": "execute_result"
    },
    {
     "data": {
      "image/png": "[encoded data removed]",
      "text/plain": [
       "<Figure size 432x288 with 1 Axes>"
      ]
     },
     "metadata": {
      "needs_background": "light"
     },
     "output_type": "display_data"
    }
   ],
   "source": [
    "sns.distplot(returns['IVV Return'],color='red',bins=100)"
   ]
  },
  {
   "cell_type": "code",
   "execution_count": 12,
   "metadata": {},
   "outputs": [
    {
     "name": "stderr",
     "output_type": "stream",
     "text": [
      "C:\\Users\\avid\\anaconda3\\lib\\site-packages\\seaborn\\axisgrid.py:1848: UserWarning: JointGrid annotation is deprecated and will be removed in a future release.\n",
      "  warnings.warn(UserWarning(msg))\n"
     ]
    },
    {
     "data": {
      "text/plain": [
       "<seaborn.axisgrid.JointGrid at 0x1b0dddf61c8>"
      ]
     },
     "execution_count": 12,
     "metadata": {},
     "output_type": "execute_result"
    },
    {
     "data": {
      "image/png": "[encoded data removed]",
      "text/plain": [
       "<Figure size 432x432 with 3 Axes>"
      ]
     },
     "metadata": {
      "needs_background": "light"
     },
     "output_type": "display_data"
    }
   ],
   "source": [
    "sns.jointplot(returns['TLT Return'],returns['IVV Return']).annotate(stats.pearsonr)"
   ]
  },
  {
   "cell_type": "code",
   "execution_count": null,
   "metadata": {},
   "outputs": [],
   "source": []
  }
 ],
 "metadata": {
  "kernelspec": {
   "display_name": "Python 3",
   "language": "python",
   "name": "python3"
  },
  "language_info": {
   "codemirror_mode": {
    "name": "ipython",
    "version": 3
   },
   "file_extension": ".py",
   "mimetype": "text/x-python",
   "name": "python",
   "nbconvert_exporter": "python",
   "pygments_lexer": "ipython3",
   "version": "3.7.6"
  }
 },
 "nbformat": 4,
 "nbformat_minor": 4
}
