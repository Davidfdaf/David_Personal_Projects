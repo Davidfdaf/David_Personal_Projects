{
 "cells": [
  {
   "cell_type": "code",
   "execution_count": 40,
   "metadata": {},
   "outputs": [],
   "source": [
    "#Hull-Options, Futures, and other derivatives. pg 197 ex. 7.5 evaluated as a portfolio of forward contracts\n",
    "import math as m"
   ]
  },
  {
   "cell_type": "code",
   "execution_count": null,
   "metadata": {},
   "outputs": [],
   "source": []
  },
  {
   "cell_type": "code",
   "execution_count": 45,
   "metadata": {},
   "outputs": [
    {
     "name": "stdout",
     "output_type": "stream",
     "text": [
      "1.5429957746883098\n"
     ]
    }
   ],
   "source": [
    "#assumes term structure is flat, rates are continuously compounded\n",
    "\n",
    "#rec_int        #interest risk free rate of currency recieving\n",
    "#pay_int        #interest risk free rate of currency paying\n",
    "#rec_yr         #yearly interest rate agreed upon which the company is recieving\n",
    "#pay_yr         #yearly interest rate agreed upon which the company is paying\n",
    "#rec_principal  #principle amount agreed in currency company is recieving\n",
    "#pay_principal  #principle amount agreed in currency company is paying\n",
    "#length         #years left in contract\n",
    "#FX_rate        #ratio FX rate: currency paid/currency recieved\n",
    "\n",
    "#Note: output is in units of currency which the company pays\n",
    "swap(.04,.09,.05,.08,1200,-10,3,1/110)"
   ]
  },
  {
   "cell_type": "code",
   "execution_count": 44,
   "metadata": {},
   "outputs": [],
   "source": [
    "#rec  yen\n",
    "#pay   dollars\n",
    "#present value is in currency paying\n",
    "\n",
    "def swap(rec_int, pay_int, rec_yr, pay_yr, rec_principal, pay_principal,length, FX_rate):\n",
    "    FX_rates=[FX_rate]\n",
    "    pay_cashflow=[]\n",
    "    rec_cashflow=[]\n",
    "    net_cashflow=[]\n",
    "    present_val=[]\n",
    "    for n in range (1, length+1):\n",
    "        FX_rates.append(FX_rate*m.exp((pay_int-rec_int)*n))\n",
    "        pay_cashflow.append(pay_principal*pay_yr)\n",
    "        rec_cashflow.append(rec_principal*rec_yr)\n",
    "    pay_cashflow.append(pay_principal)\n",
    "    rec_cashflow.append(rec_principal)\n",
    "    del FX_rates[0]\n",
    "    FX_rates.append(FX_rates[n-1])\n",
    "    for n in range (0,length+1):\n",
    "        net_cashflow.append(rec_cashflow[n]*FX_rates[n]+pay_cashflow[n])\n",
    "    for n in range(0,length):\n",
    "        present_val.append(net_cashflow[n]*m.exp(-pay_int*(n+1)))\n",
    "    present_val.append(net_cashflow[n+1]*m.exp(-pay_int*(n+1)))\n",
    "    print(sum(present_val))"
   ]
  },
  {
   "cell_type": "code",
   "execution_count": null,
   "metadata": {},
   "outputs": [],
   "source": []
  }
 ],
 "metadata": {
  "kernelspec": {
   "display_name": "Python 3",
   "language": "python",
   "name": "python3"
  },
  "language_info": {
   "codemirror_mode": {
    "name": "ipython",
    "version": 3
   },
   "file_extension": ".py",
   "mimetype": "text/x-python",
   "name": "python",
   "nbconvert_exporter": "python",
   "pygments_lexer": "ipython3",
   "version": "3.7.6"
  }
 },
 "nbformat": 4,
 "nbformat_minor": 4
}
