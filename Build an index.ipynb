{
 "cells": [
  {
   "cell_type": "code",
   "execution_count": 1,
   "id": "65f6eeec-9ad4-48d6-ba26-3a18f06d51ed",
   "metadata": {},
   "outputs": [],
   "source": [
    "import time\n",
    "import pandas as pd\n",
    "import numpy as np\n",
    "from datetime import datetime\n",
    "import seaborn as sns\n",
    "import matplotlib.pyplot as plt\n",
    "%matplotlib inline\n",
    "\n",
    "from pycoingecko import CoinGeckoAPI\n",
    "cg = CoinGeckoAPI()"
   ]
  },
  {
   "cell_type": "code",
   "execution_count": 2,
   "id": "b9591c8c-e791-4af3-a91d-9bfdcfa756cc",
   "metadata": {},
   "outputs": [],
   "source": [
    "coins_w_data = cg.get_coins_markets(vs_currency='usd',per_page=100)\n",
    "\n",
    "Market_cap = {}\n",
    "for n in range(len(coins_w_data)):\n",
    "    Market_cap[n] ={ 'ID': coins_w_data[n]['id'] }\n",
    "coins_df_w_mark_cap = pd.DataFrame.from_dict(Market_cap).T.set_index('ID')"
   ]
  },
  {
   "cell_type": "code",
   "execution_count": 3,
   "id": "9712e7a8-b4e1-4021-8f04-5f9a0df965a7",
   "metadata": {},
   "outputs": [],
   "source": [
    "s,e = \"01/01/2019\", \"06/01/2022\"\n",
    "start = time.mktime(datetime.strptime(s, \"%d/%m/%Y\").timetuple())\n",
    "end = time.mktime(datetime.strptime(e, \"%d/%m/%Y\").timetuple())"
   ]
  },
  {
   "cell_type": "code",
   "execution_count": 4,
   "id": "9f5a22ca-eea7-4e57-8f7c-00b3324b6031",
   "metadata": {},
   "outputs": [],
   "source": [
    "#grab price and market cap data in two tables\n",
    "#create dataframe when calling first asset\n",
    "holding_frame = cg.get_coin_market_chart_range_by_id(id = coins_df_w_mark_cap.index[0], vs_currency='usd', from_timestamp = start, to_timestamp = end)\n",
    "Market_cap_df = pd.DataFrame(holding_frame['market_caps']).rename(columns = {0:'date', 1:str(coins_df_w_mark_cap.index[0])}).set_index('date')\n",
    "price_df = pd.DataFrame(holding_frame['prices']).rename(columns = {0:'date', 1:str(coins_df_w_mark_cap.index[0])}).set_index('date')\n",
    "\n",
    "for n in coins_df_w_mark_cap.index[1:]:\n",
    "    try:\n",
    "        holding_frame = cg.get_coin_market_chart_range_by_id(id = n, vs_currency='usd', from_timestamp = start, to_timestamp = end)\n",
    "        \n",
    "        Market_cap_temp = pd.DataFrame(holding_frame['market_caps']).rename(columns = {0:'date', 1:str(n)}).set_index('date')\n",
    "        price_df_temp = pd.DataFrame(holding_frame['prices']).rename(columns = {0:'date', 1:str(n)}).set_index('date')\n",
    "    \n",
    "        Market_cap_df = pd.concat([Market_cap_df,Market_cap_temp], axis=1)\n",
    "        price_df = pd.concat([price_df,price_df_temp], axis=1)\n",
    "    except:\n",
    "        print(\"issue with\", n)"
   ]
  },
  {
   "cell_type": "code",
   "execution_count": 5,
   "id": "3bd9e550-2939-469d-84f8-38241aa15ace",
   "metadata": {},
   "outputs": [],
   "source": [
    "#convert index from unix to dates\n",
    "price_df.index = pd.to_datetime(price_df.index,unit='ms')\n",
    "Market_cap_df.index = pd.to_datetime(Market_cap_df.index,unit='ms')\n",
    "\n",
    "#fill na with zeros\n",
    "price_df_clean = price_df.fillna(0)\n",
    "Market_cap_df_clean = Market_cap_df.fillna(0)\n",
    "\n",
    "#use to cut out stablecoins\n",
    "ex_stablecoins = price_df_clean.columns[price_df.std()>.01] \n",
    "price_df_ex_stable = price_df_clean[ex_stablecoins]\n",
    "Market_cap_df_ex_stable = Market_cap_df_clean[ex_stablecoins]\n",
    "\n",
    "#exclude stablecoins from calculation of global cap\n",
    "global_cap = Market_cap_df_ex_stable.sum(axis=1)\n",
    "percent_cap = Market_cap_df_ex_stable.divide(global_cap,axis=0)\n",
    "\n",
    "#returns\n",
    "daily_returns = price_df_ex_stable.pct_change().fillna(0).replace(np.inf,0)"
   ]
  },
  {
   "cell_type": "code",
   "execution_count": 6,
   "id": "9d959008-24a8-4834-b2b4-ee43bfcec26b",
   "metadata": {},
   "outputs": [],
   "source": [
    "def backtest(weights, col, dataf, cap_weight, days_between_rebalance, rebalance_func, show_weights=False, wealth = 1, RebalanceOffset=0,formation = 0): #cols allows users to backtest subsets of dataframe\n",
    "    \"\"\"\n",
    "    weights: tells the function the number of assets. sets the starting weights and is the weights for constant rebalancing\n",
    "    wealth: sets starting value\n",
    "    RebalanceOffset: to offset day of rebalances by these values to avoid rebalance timing luck\n",
    "    formation: number of days historical prices used in rebalance\n",
    "    \n",
    "    \"\"\"\n",
    "    colin=[0]*len(weights) #to store asset indexes\n",
    "    port=[0]*len(weights)\n",
    "    worth=[wealth]\n",
    "    turnover = []\n",
    "\n",
    "    for n in range(len(weights)):                 #select assets\n",
    "        colin[n] = dataf.columns.get_loc(col[n])\n",
    "        port[n]=wealth*weights[n]\n",
    "\n",
    "    for n in range (formation,len(dataf)):\n",
    "        port = np.multiply(port, np.array((1+dataf.iloc[n,colin]))) \n",
    "        end_of_day = np.sum(port)\n",
    "        worth.append(end_of_day)\n",
    "        \n",
    "        if ((n + RebalanceOffset)% days_between_rebalance==0):        #rebalance\n",
    "            port,turn=rebalance_func(dataf, cap_weight, n, formation, port, weights, sum(port))\n",
    "            turnover.append(turn)\n",
    "            if show_weights == True:\n",
    "                \n",
    "                print(np.round(np.array(port/sum(port)),2))\n",
    "            \n",
    "                           \n",
    "    p_rtn = pd.DataFrame(worth).pct_change()[1:].set_index(dataf.index[formation:])\n",
    "    return(p_rtn,turnover)"
   ]
  },
  {
   "cell_type": "code",
   "execution_count": 7,
   "id": "63c0b012-ecf3-4d56-9499-6166e2954b5d",
   "metadata": {},
   "outputs": [],
   "source": [
    "def cap_weight_rebalance(stocks, cap_weight, n, formation_period, port, weights, total):\n",
    "    ave_of_historical_cap_weight = cap_weight[n - formation_period : n - 1].mean()\n",
    "    columns_to_set_to_0 = set(ave_of_historical_cap_weight.index) - set(ave_of_historical_cap_weight.nlargest(10).index)\n",
    "    weightings = ave_of_historical_cap_weight.copy()\n",
    "    weightings[columns_to_set_to_0] = 0\n",
    "    normalized_weights = (weightings/weightings.sum()).values\n",
    "    \n",
    "    update = np.subtract(np.array(normalized_weights), np.array(port/total))/4   #reduce turnover and rebalance timing luck by moving towards optimal value instead of jumping to it\n",
    "    \n",
    "    new_port = np.add(np.array(port/total),update)    #update portfolio weights\n",
    "    #print(np.round(new_port,2),n)                       #print weights\n",
    "    \n",
    "    return total * new_port, abs(update).sum()/2"
   ]
  },
  {
   "cell_type": "code",
   "execution_count": 8,
   "id": "6f92f8d4-577d-465b-898a-1399aefe0927",
   "metadata": {},
   "outputs": [],
   "source": [
    "#set initial weightings -to work with backtest function\n",
    "#index methodology. invest in 10 largest coins quarterly proportional to their previous month's market cap percent\n",
    "num=0\n",
    "columns_to_set_to_0 = set(percent_cap.columns) - set(percent_cap.iloc[num].nlargest(10).index)\n",
    "weightings = percent_cap.iloc[num].copy()\n",
    "weightings[columns_to_set_to_0] = 0\n",
    "normalized_weights = (weightings/weightings.sum()).values"
   ]
  },
  {
   "cell_type": "code",
   "execution_count": 9,
   "id": "bd9d4ec4-c992-416f-ba6d-5e02bc6c4a0d",
   "metadata": {},
   "outputs": [
    {
     "name": "stdout",
     "output_type": "stream",
     "text": [
      "formed over 5 days Mean: 0    1.108836\n",
      "dtype: float64 Std: 0    0.756192\n",
      "dtype: float64 skew: 0   -0.723556\n",
      "dtype: float64 total turnover 0.11064825410881961\n",
      "\n",
      "formed over 10 days Mean: 0    1.135489\n",
      "dtype: float64 Std: 0    0.755901\n",
      "dtype: float64 skew: 0   -0.723168\n",
      "dtype: float64 total turnover 0.10846287154411743\n",
      "\n",
      "formed over 22 days Mean: 0    1.156094\n",
      "dtype: float64 Std: 0    0.759054\n",
      "dtype: float64 skew: 0   -0.733364\n",
      "dtype: float64 total turnover 0.12231893450385087\n",
      "\n",
      "formed over 30 days Mean: 0    1.178275\n",
      "dtype: float64 Std: 0    0.761564\n",
      "dtype: float64 skew: 0   -0.735774\n",
      "dtype: float64 total turnover 0.1311741250940934\n",
      "\n",
      "formed over 60 days Mean: 0    1.168826\n",
      "dtype: float64 Std: 0    0.764378\n",
      "dtype: float64 skew: 0   -0.742791\n",
      "dtype: float64 total turnover 0.12419589635416178\n",
      "\n"
     ]
    }
   ],
   "source": [
    "# find sensativity to formation period, maximize returns \n",
    "for n in [5,10,22,30,60]:\n",
    "    index,turnover = backtest(normalized_weights, daily_returns.columns, daily_returns, percent_cap, days_between_rebalance = 90, rebalance_func = cap_weight_rebalance, formation = n)\n",
    "    print(\"formed over\",n,\"days\",\"Mean:\", index.mean()*365,\"Std:\",index.std()*np.sqrt(365),\"skew:\", index.skew(),\"total turnover\", sum(turnover))\n",
    "    print()"
   ]
  },
  {
   "cell_type": "code",
   "execution_count": 10,
   "id": "3958364e-b103-4f95-a6c9-9e44e099de92",
   "metadata": {},
   "outputs": [
    {
     "name": "stdout",
     "output_type": "stream",
     "text": [
      "days between rebalance: 30 Mean: 1.1756 Std: 0.7595 skew: -0.7345 total turnover 0.3051 return dispersion 0.002837952668962544\n",
      "\n",
      "days between rebalance: 60 Mean: 1.1753 Std: 0.7596 skew: -0.7319 total turnover 0.1771 return dispersion 0.004083366958224512\n",
      "\n",
      "days between rebalance: 90 Mean: 1.1755 Std: 0.7596 skew: -0.7309 total turnover 0.1277 return dispersion 0.0027315200388714905\n",
      "\n",
      "days between rebalance: 150 Mean: 1.1755 Std: 0.7596 skew: -0.729 total turnover 0.0862 return dispersion 0.0027561517667927878\n",
      "\n",
      "days between rebalance: 365 Mean: 1.1742 Std: 0.7596 skew: -0.7258 total turnover 0.0419 return dispersion 0.00359664625227278\n",
      "\n"
     ]
    }
   ],
   "source": [
    "#sensativity to days between rebalancing\n",
    "for n in [30,60,90,150,365]:\n",
    "    temp = {}\n",
    "    for i in range(0,n,5): #run each backtest with different starting days to get a proxy for the luck of when you rebalance\n",
    "        index,turnover = backtest(normalized_weights, daily_returns.columns, daily_returns, percent_cap, days_between_rebalance = n, rebalance_func = cap_weight_rebalance, formation = 30,RebalanceOffset = i)\n",
    "        temp[i] = {'mean':index.mean().values[0]*365,'std':index.std().values[0]*np.sqrt(365),'skew':index.skew().values[0],'total turnover':sum(turnover)}\n",
    "        df = pd.DataFrame(temp).mean(axis=1).round(4)\n",
    "    print(\"days between rebalance:\",n,\"Mean:\", df['mean'],\"Std:\", df['std'],\"skew:\", df['skew'],\"total turnover\", df['total turnover'], \"return dispersion\", pd.DataFrame(temp).std(axis=1)['mean'])\n",
    "    print()"
   ]
  },
  {
   "cell_type": "code",
   "execution_count": 11,
   "id": "aabd64d9-de57-40aa-babc-5e2368cac2b9",
   "metadata": {},
   "outputs": [],
   "source": [
    "returns, turnover = backtest(normalized_weights, daily_returns.columns, daily_returns, percent_cap, days_between_rebalance = 90, rebalance_func = cap_weight_rebalance, formation = 30,RebalanceOffset = i)"
   ]
  },
  {
   "cell_type": "code",
   "execution_count": 12,
   "id": "d0e16f5a-e36f-4dc0-a2c6-caf564a90985",
   "metadata": {},
   "outputs": [
    {
     "data": {
      "image/png": "[encoded data removed]",
      "text/plain": [
       "<Figure size 432x288 with 1 Axes>"
      ]
     },
     "metadata": {
      "needs_background": "light"
     },
     "output_type": "display_data"
    }
   ],
   "source": [
    "(returns+1).cumprod().plot()\n",
    "plt.title(\"cap weighted index of top ten crypto assets\")\n",
    "plt.show()"
   ]
  },
  {
   "cell_type": "code",
   "execution_count": null,
   "id": "0ff1dab8-81c3-4994-8504-59a194993c6a",
   "metadata": {},
   "outputs": [],
   "source": []
  }
 ],
 "metadata": {
  "kernelspec": {
   "display_name": "tfenv",
   "language": "python",
   "name": "tfenv"
  },
  "language_info": {
   "codemirror_mode": {
    "name": "ipython",
    "version": 3
   },
   "file_extension": ".py",
   "mimetype": "text/x-python",
   "name": "python",
   "nbconvert_exporter": "python",
   "pygments_lexer": "ipython3",
   "version": "3.8.10"
  }
 },
 "nbformat": 4,
 "nbformat_minor": 5
}
