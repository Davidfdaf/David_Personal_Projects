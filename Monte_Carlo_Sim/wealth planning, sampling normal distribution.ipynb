{
 "cells": [
  {
   "cell_type": "code",
   "execution_count": 1,
   "metadata": {},
   "outputs": [],
   "source": [
    "#a classic college level Monte Carlo simulation using real expected return and standard deviations for assets though sampling\n",
    "#bond and stock retrns from a gaussian distribution\n",
    "\n",
    "#An issue with this analysis is it assumes future returns will look like historical returns Ex. T-bonds have done very well over the timeframe of this analysis which can not continue due to hitting the effective lower bound\n",
    "\n",
    "import numpy as np\n",
    "import pandas as pd\n",
    "from pandas_datareader import data, wb\n",
    "from datetime import datetime"
   ]
  },
  {
   "cell_type": "code",
   "execution_count": 2,
   "metadata": {},
   "outputs": [],
   "source": [
    "#read in data\n",
    "start = datetime(2003,1,1)\n",
    "end = datetime(2020,5,1)\n",
    "TLT = data.DataReader(\"TLT\", 'yahoo', start, end)\n",
    "TLT_div = data.DataReader(\"TLT\", 'yahoo-dividends', start, end)\n",
    "IVV= data.DataReader(\"IVV\", 'yahoo', start, end)\n",
    "IVV_div= data.DataReader(\"IVV\", 'yahoo-dividends', start, end)"
   ]
  },
  {
   "cell_type": "code",
   "execution_count": 3,
   "metadata": {},
   "outputs": [],
   "source": [
    "#this portion is done and explained in Treasuries and IVV with dividends notebook\n",
    "port=pd.concat([TLT[\"Close\"],TLT_div[\"value\"],IVV[\"Close\"],IVV_div[\"value\"]], axis=1,keys=[\"TLT\",\"TLT_Div\",\"IVV\",\"IVV_Div\"])\n",
    "port[\"TLT_Div\"]=port[\"TLT_Div\"].fillna(0)\n",
    "port[\"IVV_Div\"]=port[\"IVV_Div\"].fillna(0)\n",
    "port[\"TLT_return\"]=port[\"TLT\"].pct_change()+port[\"TLT_Div\"]/port[\"TLT\"]\n",
    "port[\"IVV_return\"]=port[\"IVV\"].pct_change()+port[\"IVV_Div\"]/port[\"IVV\"]\n",
    "returns = port[[\"IVV_return\", \"TLT_return\"]].copy()\n",
    "An_port_returns = returns.resample('AS').sum().mean()\n",
    "An_port_std = returns.resample('AS').sum().std()"
   ]
  },
  {
   "cell_type": "code",
   "execution_count": 4,
   "metadata": {},
   "outputs": [],
   "source": [
    "#Problem set up: couple expecting to live 10 more years provides living expenses, portfolio composition\n",
    "#and wants to know the probability of being able to make donation at end of life\n",
    "\n",
    "#assumptions: annual rebalancing, withdraw living expenses anually at end of year\n",
    "\n",
    "wealth =2e6\n",
    "bnd_expt_return=An_port_returns[\"TLT_return\"]       #TLT ave annual return\n",
    "equity_expt_return=An_port_returns[\"IVV_return\"]    #IVV ave annual return\n",
    "bnd_std=An_port_std[\"TLT_return\"]                   #TLT annual std\n",
    "equity_std=An_port_std[\"IVV_return\"]                #IVV annual std\n",
    "equity_pct=.4                                       #percent of portfolio in equities rebalaced annually\n",
    "withdraw=2e5                                        #annual withdrawal for living expence\n",
    "donation=1e6                                        #wants to donate 1 mill at end of life"
   ]
  },
  {
   "cell_type": "code",
   "execution_count": 5,
   "metadata": {},
   "outputs": [],
   "source": [
    "def wealth_planning(wealth,bnd_return,equity_expt_return,equity_std,equity_pct,withdraw):\n",
    "    #year 1\n",
    "    yr_start=wealth\n",
    "    equity=yr_start*equity_pct\n",
    "    bonds=yr_start*(1-equity_pct)\n",
    "    equity_rtn=1+(equity_expt_return+np.random.normal(0,1)*equity_std)\n",
    "    bond_rtn=1+(bnd_expt_return+np.random.normal(0,1)*bnd_std)\n",
    "    yr_end=equity*equity_rtn+bonds*bond_rtn-withdraw\n",
    "    \n",
    "    for i in range(9):\n",
    "        yr_start=yr_end\n",
    "        equity=yr_start*equity_pct\n",
    "        bonds=yr_start*(1-equity_pct)\n",
    "        equity_rtn=1+(equity_expt_return+np.random.normal(0,1)*equity_std)\n",
    "        bond_rtn=1+(bnd_expt_return+np.random.normal(0,1)*bnd_std)\n",
    "        yr_end=equity*equity_rtn+bonds*bond_rtn-withdraw\n",
    "        \n",
    "    return(yr_end)"
   ]
  },
  {
   "cell_type": "code",
   "execution_count": 6,
   "metadata": {},
   "outputs": [],
   "source": [
    "def simulation(num):\n",
    "    sum=0\n",
    "    sims=[]\n",
    "    for i in range(num):\n",
    "        sim=wealth_planning(wealth,bnd_expt_return,equity_expt_return,equity_std,equity_pct,withdraw)\n",
    "        sims.append(sim)\n",
    "        sum+=sim\n",
    "    return(sims)"
   ]
  },
  {
   "cell_type": "code",
   "execution_count": 7,
   "metadata": {},
   "outputs": [],
   "source": [
    "sims=pd.DataFrame(simulation(100000))"
   ]
  },
  {
   "cell_type": "code",
   "execution_count": 8,
   "metadata": {},
   "outputs": [
    {
     "data": {
      "text/plain": [
       "0    0.7169\n",
       "dtype: float64"
      ]
     },
     "execution_count": 8,
     "metadata": {},
     "output_type": "execute_result"
    }
   ],
   "source": [
    "sims[sims>1e6].count()/1e5"
   ]
  },
  {
   "cell_type": "code",
   "execution_count": 9,
   "metadata": {},
   "outputs": [
    {
     "data": {
      "text/html": [
       "<div>\n",
       "<style scoped>\n",
       "    .dataframe tbody tr th:only-of-type {\n",
       "        vertical-align: middle;\n",
       "    }\n",
       "\n",
       "    .dataframe tbody tr th {\n",
       "        vertical-align: top;\n",
       "    }\n",
       "\n",
       "    .dataframe thead th {\n",
       "        text-align: right;\n",
       "    }\n",
       "</style>\n",
       "<table border=\"1\" class=\"dataframe\">\n",
       "  <thead>\n",
       "    <tr style=\"text-align: right;\">\n",
       "      <th></th>\n",
       "      <th>0</th>\n",
       "    </tr>\n",
       "  </thead>\n",
       "  <tbody>\n",
       "    <tr>\n",
       "      <th>count</th>\n",
       "      <td>1.000000e+05</td>\n",
       "    </tr>\n",
       "    <tr>\n",
       "      <th>mean</th>\n",
       "      <td>1.644372e+06</td>\n",
       "    </tr>\n",
       "    <tr>\n",
       "      <th>std</th>\n",
       "      <td>1.011878e+06</td>\n",
       "    </tr>\n",
       "    <tr>\n",
       "      <th>min</th>\n",
       "      <td>-9.622767e+05</td>\n",
       "    </tr>\n",
       "    <tr>\n",
       "      <th>25%</th>\n",
       "      <td>9.212616e+05</td>\n",
       "    </tr>\n",
       "    <tr>\n",
       "      <th>50%</th>\n",
       "      <td>1.494404e+06</td>\n",
       "    </tr>\n",
       "    <tr>\n",
       "      <th>75%</th>\n",
       "      <td>2.202351e+06</td>\n",
       "    </tr>\n",
       "    <tr>\n",
       "      <th>max</th>\n",
       "      <td>1.138687e+07</td>\n",
       "    </tr>\n",
       "  </tbody>\n",
       "</table>\n",
       "</div>"
      ],
      "text/plain": [
       "                  0\n",
       "count  1.000000e+05\n",
       "mean   1.644372e+06\n",
       "std    1.011878e+06\n",
       "min   -9.622767e+05\n",
       "25%    9.212616e+05\n",
       "50%    1.494404e+06\n",
       "75%    2.202351e+06\n",
       "max    1.138687e+07"
      ]
     },
     "execution_count": 9,
     "metadata": {},
     "output_type": "execute_result"
    }
   ],
   "source": [
    "sims.describe()"
   ]
  },
  {
   "cell_type": "code",
   "execution_count": null,
   "metadata": {},
   "outputs": [],
   "source": []
  }
 ],
 "metadata": {
  "kernelspec": {
   "display_name": "Python 3",
   "language": "python",
   "name": "python3"
  },
  "language_info": {
   "codemirror_mode": {
    "name": "ipython",
    "version": 3
   },
   "file_extension": ".py",
   "mimetype": "text/x-python",
   "name": "python",
   "nbconvert_exporter": "python",
   "pygments_lexer": "ipython3",
   "version": "3.7.6"
  }
 },
 "nbformat": 4,
 "nbformat_minor": 4
}
