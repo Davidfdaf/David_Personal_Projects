{
 "cells": [
  {
   "cell_type": "code",
   "execution_count": 1,
   "metadata": {},
   "outputs": [],
   "source": [
    "#calculating beta by linear regression\n",
    "import pandas as pd\n",
    "import numpy as np\n",
    "from datetime import datetime\n",
    "from pandas_datareader import data, wb"
   ]
  },
  {
   "cell_type": "code",
   "execution_count": 2,
   "metadata": {},
   "outputs": [],
   "source": [
    "%run C:\\Users\\avid\\Desktop\\Finance_codes\\tools\\helpers.ipynb"
   ]
  },
  {
   "cell_type": "code",
   "execution_count": 121,
   "metadata": {},
   "outputs": [],
   "source": [
    "start = datetime(2018,12,31)\n",
    "end = datetime(2021,2,28)\n",
    "regressor = 'SPY'\n",
    "riskfree = 'VFISX' #VFISX is a poor risk_free rate due to its average maturity currently being 3 years, but it's convenient\n",
    "\n",
    "tickers = ['GE','MSFT','AAPL']\n",
    "returns = import_data([regressor,riskfree]+tickers,start,end, give =\"R\",dividend=True) \n",
    "for tick in (tickers+[regressor]):\n",
    "    returns[tick] = returns[tick]-returns[riskfree]\n",
    "adjusted = returns.drop(riskfree,axis=1)"
   ]
  },
  {
   "cell_type": "code",
   "execution_count": 122,
   "metadata": {},
   "outputs": [],
   "source": [
    "X = np.array(adjusted[regressor]).reshape(-1,1)\n",
    "y = np.array(adjusted[tickers]).reshape(-1,len(tickers)) #second number is the number of stocks I think"
   ]
  },
  {
   "cell_type": "code",
   "execution_count": 123,
   "metadata": {},
   "outputs": [
    {
     "name": "stderr",
     "output_type": "stream",
     "text": [
      "C:\\Users\\avid\\anaconda3\\lib\\site-packages\\sklearn\\base.py:434: FutureWarning: The default value of multioutput (not exposed in score method) will change from 'variance_weighted' to 'uniform_average' in 0.23 to keep consistent with 'metrics.r2_score'. To specify the default value manually and avoid the warning, please either call 'metrics.r2_score' directly or make a custom scorer with 'metrics.make_scorer' (the built-in scorer 'r2' uses multioutput='uniform_average').\n",
      "  \"multioutput='uniform_average').\", FutureWarning)\n"
     ]
    },
    {
     "data": {
      "text/html": [
       "<div>\n",
       "<style scoped>\n",
       "    .dataframe tbody tr th:only-of-type {\n",
       "        vertical-align: middle;\n",
       "    }\n",
       "\n",
       "    .dataframe tbody tr th {\n",
       "        vertical-align: top;\n",
       "    }\n",
       "\n",
       "    .dataframe thead th {\n",
       "        text-align: right;\n",
       "    }\n",
       "</style>\n",
       "<table border=\"1\" class=\"dataframe\">\n",
       "  <thead>\n",
       "    <tr style=\"text-align: right;\">\n",
       "      <th></th>\n",
       "      <th>Beta</th>\n",
       "      <th>R^2</th>\n",
       "      <th>intercept</th>\n",
       "    </tr>\n",
       "  </thead>\n",
       "  <tbody>\n",
       "    <tr>\n",
       "      <th>GE</th>\n",
       "      <td>1.283787</td>\n",
       "      <td>0.526407</td>\n",
       "      <td>0.000356</td>\n",
       "    </tr>\n",
       "    <tr>\n",
       "      <th>MSFT</th>\n",
       "      <td>1.157613</td>\n",
       "      <td>0.526407</td>\n",
       "      <td>0.000702</td>\n",
       "    </tr>\n",
       "    <tr>\n",
       "      <th>AAPL</th>\n",
       "      <td>1.203623</td>\n",
       "      <td>0.526407</td>\n",
       "      <td>0.001270</td>\n",
       "    </tr>\n",
       "  </tbody>\n",
       "</table>\n",
       "</div>"
      ],
      "text/plain": [
       "          Beta       R^2  intercept\n",
       "GE    1.283787  0.526407   0.000356\n",
       "MSFT  1.157613  0.526407   0.000702\n",
       "AAPL  1.203623  0.526407   0.001270"
      ]
     },
     "execution_count": 123,
     "metadata": {},
     "output_type": "execute_result"
    }
   ],
   "source": [
    "#use all data as training data because we arn't predicting anything\n",
    "from sklearn.linear_model import LinearRegression\n",
    "lm = LinearRegression()\n",
    "lm.fit(X,y)\n",
    "\n",
    "coeff_df = pd.DataFrame(lm.coef_,adjusted.columns[1:],columns=['Beta'])\n",
    "coeff_df[\"R^2\"] = lm.score(X,y)\n",
    "coeff_df['intercept'] = lm.intercept_\n",
    "coeff_df"
   ]
  },
  {
   "cell_type": "code",
   "execution_count": null,
   "metadata": {},
   "outputs": [],
   "source": []
  }
 ],
 "metadata": {
  "kernelspec": {
   "display_name": "Python 3",
   "language": "python",
   "name": "python3"
  },
  "language_info": {
   "codemirror_mode": {
    "name": "ipython",
    "version": 3
   },
   "file_extension": ".py",
   "mimetype": "text/x-python",
   "name": "python",
   "nbconvert_exporter": "python",
   "pygments_lexer": "ipython3",
   "version": "3.7.6"
  }
 },
 "nbformat": 4,
 "nbformat_minor": 4
}
