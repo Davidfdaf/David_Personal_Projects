{
 "cells": [
  {
   "cell_type": "code",
   "execution_count": 2,
   "metadata": {},
   "outputs": [],
   "source": [
    "import pandas as pd\n",
    "import numpy as np\n",
    "from numpy.random import normal\n",
    "from numpy.random import uniform\n",
    "from numpy.random import random\n",
    "from warnings import catch_warnings\n",
    "from warnings import simplefilter\n",
    "from sklearn.gaussian_process import GaussianProcessRegressor\n",
    "from datetime import datetime\n",
    "from scipy.stats import norm"
   ]
  },
  {
   "cell_type": "code",
   "execution_count": 3,
   "metadata": {},
   "outputs": [],
   "source": [
    "returns=pd.read_csv(\"asset_class_returns.csv\")\n",
    "returns = pd.DataFrame(returns).set_index(\"Year\")\n",
    "returns=returns.apply(lambda num : num.str.strip('%'))\n",
    "for col in returns.columns:\n",
    "    returns[col]=returns[col].astype(str).astype(float)\n",
    "cols=returns.columns"
   ]
  },
  {
   "cell_type": "markdown",
   "metadata": {},
   "source": [
    "Portfolio Optimization to Backtest - Note: This is purposeful overfitting to show the value of diversification to assets with uncorrelated returns. This can be seen through an optimization of the sharpe ratio."
   ]
  },
  {
   "cell_type": "code",
   "execution_count": 4,
   "metadata": {},
   "outputs": [],
   "source": [
    "def backtest(wealth,weights,col, start_date, end_date, data, loss):\n",
    "    colin=[0]*len(weights)\n",
    "    port=[0]*len(weights)\n",
    "    start=wealth\n",
    "    worth=[start]\n",
    "    cash=returns[\"Cash\"]\n",
    "    data=data[col].copy()\n",
    "    data=pd.merge(data,cash,on=\"Year\").dropna()\n",
    "    data = data.iloc[(start_date-1995):(end_date-1995)]\n",
    "\n",
    "    for n in range(len(weights)):\n",
    "        colin[n] = data.columns.get_loc(col[n])\n",
    "        port[n]=start*weights[n]\n",
    "\n",
    "    for n in range (len(data)):\n",
    "        for i in range(len(weights)):\n",
    "            port[i]=port[i]*(1+data.iloc[n,colin[i]]/100)\n",
    "            \n",
    "        yr_end = sum(port)\n",
    "        worth.append(yr_end)\n",
    "        for i in range(len(weights)): port[i] = yr_end * weights[i]\n",
    "        \n",
    "    p_rtn = pd.DataFrame(worth).pct_change()[1:].reset_index().drop([\"index\"],axis=1)\n",
    "    p_rtn = p_rtn.join(data[\"Cash\"].reset_index().drop([\"Year\"],axis=1)/100)\n",
    "    p_rtn=p_rtn[0]-p_rtn[\"Cash\"]\n",
    "    sharpe= round((p_rtn.mean()/p_rtn.std()),4)\n",
    "    yearly_rtn = round((worth[-1]/worth[0])**(1/len(data))-1,4)\n",
    "    \n",
    "    if loss == 0:\n",
    "        score = sharpe\n",
    "    elif loss ==1:\n",
    "        score = np.sqrt(sharpe*yearly_rtn)\n",
    "    elif loss ==2:\n",
    "        score = yearly_rtn\n",
    "    \n",
    "    return(score, sharpe, yearly_rtn)"
   ]
  },
  {
   "cell_type": "code",
   "execution_count": 5,
   "metadata": {},
   "outputs": [],
   "source": [
    "#1 sample of features(N) which sum to 1. Sample M times\n",
    "def constrained_samp(M,N):\n",
    "    H=np.zeros([M,N+1])\n",
    "    U=np.zeros([M,N])\n",
    "    for j in range (0,M):\n",
    "        for i in range(1,N): \n",
    "            H[j,i] = round(uniform(0,1),2)\n",
    "        H[j,N] = 1\n",
    "        H.sort()\n",
    "        for i in range(1,N+1):\n",
    "            U[j,i-1] = H[j,i] - H[j,i-1]\n",
    "    return(U)"
   ]
  },
  {
   "cell_type": "code",
   "execution_count": 6,
   "metadata": {},
   "outputs": [],
   "source": [
    "# surrogate or approximation for the objective function\n",
    "def surrogate(model, X):\n",
    "    # catch any warning generated when making a prediction\n",
    "    with catch_warnings():\n",
    "        # ignore generated warnings\n",
    "        simplefilter(\"ignore\")\n",
    "        return model.predict(X, return_std=True)"
   ]
  },
  {
   "cell_type": "code",
   "execution_count": 7,
   "metadata": {},
   "outputs": [],
   "source": [
    "# probability of improvement acquisition function\n",
    "def acquisition(X, Xsamples, model):\n",
    "    # calculate the best surrogate score found so far\n",
    "    yhat, _ = surrogate(model, X)\n",
    "    best = max(yhat)\n",
    "    # calculate mean and stdev via surrogate function\n",
    "    mu, std = surrogate(model, Xsamples)\n",
    "    mu = mu[:, 0]\n",
    "    # calculate the probability of improvement\n",
    "    probs = norm.cdf((mu - best) / (std+1E-9))\n",
    "    return probs"
   ]
  },
  {
   "cell_type": "code",
   "execution_count": 8,
   "metadata": {},
   "outputs": [],
   "source": [
    "# optimize the acquisition function\n",
    "def opt_acquisition(X, y, model,search_samp):\n",
    "    # random search, generate random samples\n",
    "    Xsamples = constrained_samp(search_samp,asset_classes)\n",
    "    # calculate the acquisition function for each sample\n",
    "    scores = acquisition(X, Xsamples, model)\n",
    "    # locate the index of the largest scores\n",
    "    ix = np.argmax(scores)\n",
    "    return Xsamples[ix]"
   ]
  },
  {
   "cell_type": "code",
   "execution_count": 9,
   "metadata": {},
   "outputs": [],
   "source": [
    "def Bayes_opt(asset_classes, starting_data, search_samp, optimization_steps, start_year, end_year, wealth, col, loss):\n",
    "\n",
    "    #samples\n",
    "    X = constrained_samp(starting_data,asset_classes)\n",
    "    y = np.asarray([backtest(wealth,x,col,start_year,end_year,returns, loss) for x in X])[:,0].reshape(-1,1)  #to expand to allow for expected returns too\n",
    "    # reshape into rows and cols\n",
    "    y = y.reshape(len(y), 1)\n",
    "    # define the model\n",
    "    model = GaussianProcessRegressor()\n",
    "    # fit the model\n",
    "    model.fit(X, y)\n",
    "\n",
    "    # perform the optimization process\n",
    "    error=[]\n",
    "    for i in range(optimization_steps):\n",
    "        # select the next point to sample\n",
    "        x = opt_acquisition(X, y, model,search_samp).reshape(1,-1)\n",
    "        # sample the point\n",
    "        actual,_,_ = backtest(wealth,x[0],col,start_year,end_year,returns, loss)    #expand to include expected returns\n",
    "        # summarize the finding\n",
    "        est, _ = surrogate(model, x)\n",
    "                #print('>x=%s, f()=%3f, actual=%.3f' % (tuple(x), est, actual))\n",
    "                #print(i)\n",
    "        wrongness=(actual-est)/est\n",
    "        error.append(wrongness)\n",
    "        # add the data to the dataset\n",
    "        X = np.vstack((X, x))\n",
    "        y = np.vstack((y, [[actual]]))\n",
    "        # update the model\n",
    "        model.fit(X, y)\n",
    "    \n",
    "    # best result\n",
    "    np.round(X,2)\n",
    "    ix = np.argmax(y)\n",
    "            #print('Best Result: \\nWeights=%s, \\nSharpe=%.3f' % (tuple(X[ix]), y[ix]))\n",
    "            #print('\\nMean Error=%.3f' % (abs(np.mean(error))))\n",
    "    _, sharpe, yr_rtn = backtest(wealth,tuple(X[ix]),col,start_year,end_year,returns, loss)\n",
    "    return(sharpe, yr_rtn, tuple(X[ix]))"
   ]
  },
  {
   "cell_type": "code",
   "execution_count": 10,
   "metadata": {},
   "outputs": [],
   "source": [
    "def multi_run(asset_classes, starting_data, search_samp, optimization_steps, start_year, end_year, wealth, col, loss, algo_runs):\n",
    "\n",
    "    sharpe = []\n",
    "    annual = []\n",
    "    weights = np.zeros([algo_runs,11])\n",
    "    for i in range(algo_runs):\n",
    "        shpe, anul, weights[i] = Bayes_opt(asset_classes, starting_data, search_samp, optimization_steps, start_year, end_year, wealth, col, loss)\n",
    "        sharpe.append(shpe)\n",
    "        annual.append(anul)\n",
    "    index = np.argmax(sharpe)\n",
    "    print(\"max sharpe:        \", np.max(sharpe), annual[index], weights[index])\n",
    "    print(\"ave of\" ,algo_runs, \"algo runs:\", np.round(np.mean(sharpe),4), np.round(np.mean(annual),4), np.round(np.mean(weights[:2],axis=0),2))\n",
    "    "
   ]
  },
  {
   "cell_type": "code",
   "execution_count": 11,
   "metadata": {},
   "outputs": [],
   "source": [
    "def one_asset_ports(wealth, col, start_year, end_year, returns, loss):\n",
    "    #single asset portfolios\n",
    "    test_weights = np.zeros([11,11])\n",
    "    col_width = max(len(row) for row in col) + 2  # padding\n",
    "    print(\" \".ljust(col_width), \"Sharpe Ratio      Annual Geo-Mean(CAGR)\")\n",
    "    i=0\n",
    "    for row in col:\n",
    "        test_weights[i,i]=1\n",
    "        _, shpe, anul = backtest(wealth, test_weights[i], col, start_year, end_year, returns, loss)\n",
    "        print(row.ljust(col_width), str(shpe).ljust(17), anul)\n",
    "        i+=1"
   ]
  },
  {
   "cell_type": "code",
   "execution_count": null,
   "metadata": {},
   "outputs": [],
   "source": []
  },
  {
   "cell_type": "code",
   "execution_count": 12,
   "metadata": {},
   "outputs": [],
   "source": [
    "# Settings\n",
    "asset_classes=11\n",
    "starting_data=500   #norm is 300\n",
    "search_samp=300     #norm is 250\n",
    "optimization_steps=200   #norm is 50, been doing 100\n",
    "start_year=1995     # 1995-2020 final year excluded\n",
    "end_year=2021      # 1996-2021. final year excluded\n",
    "wealth=1e3\n",
    "#loss = 0\n",
    "algo_runs = 1\n",
    "col=['US Large Cap', 'US Mid Cap', 'US Small Cap', 'US Micro Cap', 'Intl Developed ex-US Market',\n",
    "    'Emerging Markets', '10-year Treasury', 'Total US Bond Market', 'High Yield Corporate Bonds', 'Gold', 'Precious Metals']"
   ]
  },
  {
   "cell_type": "code",
   "execution_count": 13,
   "metadata": {},
   "outputs": [],
   "source": [
    "#see how sharpe ratio, expected return and weights change as we change the loss function "
   ]
  },
  {
   "cell_type": "code",
   "execution_count": 14,
   "metadata": {},
   "outputs": [
    {
     "name": "stdout",
     "output_type": "stream",
     "text": [
      "\n",
      "cost function = sharpe.  Backtest years: 1995 - 2020\n",
      "                    Sharpe Return\n",
      "max sharpe:         1.0378 0.0747 [0.04 0.03 0.08 0.   0.01 0.09 0.65 0.03 0.03 0.03 0.01]\n",
      "ave of 1 algo runs: 1.0378 0.0747 [0.04 0.03 0.08 0.   0.01 0.09 0.65 0.03 0.03 0.03 0.01]\n",
      " \n",
      "\n",
      "cost function = geometric mean of sharpe and expt rtn.  Backtest years: 1995 - 2020\n",
      "                    Sharpe Return\n",
      "max sharpe:         1.0122 0.0818 [0.07 0.15 0.04 0.01 0.01 0.02 0.55 0.05 0.02 0.02 0.06]\n",
      "ave of 1 algo runs: 1.0122 0.0818 [0.07 0.15 0.04 0.01 0.01 0.02 0.55 0.05 0.02 0.02 0.06]\n",
      " \n",
      "\n",
      "cost function = expt rtn  Backtest years: 1995 - 2020\n",
      "                    Sharpe Return\n",
      "max sharpe:         0.5632 0.1082 [0.17 0.33 0.03 0.38 0.   0.01 0.   0.   0.02 0.03 0.03]\n",
      "ave of 1 algo runs: 0.5632 0.1082 [0.17 0.33 0.03 0.38 0.   0.01 0.   0.   0.02 0.03 0.03]\n",
      " \n",
      "show outperformance relative to all single asset portfolios\n",
      "                              Sharpe Ratio      Annual Geo-Mean(CAGR)\n",
      "US Large Cap                  0.5237            0.1009\n",
      "US Mid Cap                    0.5893            0.1118\n",
      "US Small Cap                  0.4767            0.0967\n",
      "US Micro Cap                  0.4618            0.1078\n",
      "Intl Developed ex-US Market   0.2166            0.0468\n",
      "Emerging Markets              0.2572            0.0598\n",
      "10-year Treasury              0.4859            0.0606\n",
      "Total US Bond Market          0.8361            0.0542\n",
      "High Yield Corporate Bonds    0.441             0.0656\n",
      "Gold                          0.317             0.0622\n",
      "Precious Metals               0.2663            0.0588\n"
     ]
    }
   ],
   "source": [
    "for i in range (3):\n",
    "    print(\"\")\n",
    "    if i == 0:\n",
    "        print(\"cost function = sharpe.\",\" Backtest years:\", start_year, \"-\", end_year-1)\n",
    "        print(\"                    Sharpe Return\")\n",
    "    elif i == 1:\n",
    "        print(\"cost function = geometric mean of sharpe and expt rtn.\", \" Backtest years:\", start_year, \"-\", end_year-1)\n",
    "        print(\"                    Sharpe Return\")\n",
    "    elif i == 2:\n",
    "        print(\"cost function = expt rtn\", \" Backtest years:\", start_year, \"-\", end_year-1)\n",
    "        print(\"                    Sharpe Return\")\n",
    "\n",
    "    multi_run(asset_classes, starting_data, search_samp, optimization_steps, start_year, end_year, wealth, col, i, algo_runs)\n",
    "    print(\" \")\n",
    "\n",
    "#can I beat it with a portfolio of a single asset over the same time period? No!\n",
    "print(\"show outperformance relative to all single asset portfolios\")\n",
    "one_asset_ports(wealth, col, start_year, end_year, returns, 1)"
   ]
  },
  {
   "cell_type": "code",
   "execution_count": null,
   "metadata": {},
   "outputs": [],
   "source": [
    "#error model should be finding us mid cap annual geo mean of .1118 but creates a .1082 through various equity\n",
    "#componants certainly favoring mid an micro cap which have the highest expected return\n",
    "#This means an error of 3.3%"
   ]
  },
  {
   "cell_type": "code",
   "execution_count": null,
   "metadata": {},
   "outputs": [],
   "source": []
  },
  {
   "cell_type": "code",
   "execution_count": null,
   "metadata": {},
   "outputs": [],
   "source": []
  }
 ],
 "metadata": {
  "kernelspec": {
   "display_name": "Python 3",
   "language": "python",
   "name": "python3"
  },
  "language_info": {
   "codemirror_mode": {
    "name": "ipython",
    "version": 3
   },
   "file_extension": ".py",
   "mimetype": "text/x-python",
   "name": "python",
   "nbconvert_exporter": "python",
   "pygments_lexer": "ipython3",
   "version": "3.7.6"
  }
 },
 "nbformat": 4,
 "nbformat_minor": 4
}
