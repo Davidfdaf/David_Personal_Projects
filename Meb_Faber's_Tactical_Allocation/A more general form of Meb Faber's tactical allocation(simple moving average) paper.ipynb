{
 "cells": [
  {
   "cell_type": "code",
   "execution_count": 44,
   "metadata": {},
   "outputs": [],
   "source": [
    "import pandas as pd\n",
    "import numpy as np\n",
    "from pandas_datareader import data, wb\n",
    "from datetime import datetime\n",
    "import scipy.stats as stats"
   ]
  },
  {
   "cell_type": "code",
   "execution_count": 94,
   "metadata": {},
   "outputs": [],
   "source": [
    "#pull in dataset used as the benchmark and dataset for SMA strategy. Note the start and end dates.\n",
    "\n",
    "start = datetime(2002,1,1)\n",
    "end = datetime(2020,5,1)\n",
    "stock = data.DataReader(\"IVV\", 'yahoo', start, end).reset_index()\n",
    "close = stock[\"Close\"] #data used for SMA function"
   ]
  },
  {
   "cell_type": "code",
   "execution_count": 95,
   "metadata": {},
   "outputs": [],
   "source": [
    "#The SMA function,includes current day included SMA. basic form is to compare price to SMA of length set by user.\n",
    "#This function looks for another price signal after a number of days equal to the return length\n",
    "\n",
    "def SMA_timing_func_edit(SMA_len, return_len, data, initial):\n",
    "    timing = initial\n",
    "    hold = 'cash'\n",
    "    acct_value = []\n",
    "    \n",
    "    for n in range (SMA_len, len(data)-return_len-np.mod(len(data)-SMA_len, return_len),return_len): #the stopping point maximises the loops us of dtaset without falling outside of it.\n",
    "        price = data.iloc[n]\n",
    "        next_price = data.iloc[n+return_len]\n",
    "        SMA = data[n-SMA_len:n].mean()\n",
    "        acct_value.append(timing)\n",
    "        if (price >= SMA) & (hold =='stock'): #the first case for when the loop checks for a price signal\n",
    "            timing = next_price/price*timing\n",
    "        elif (price >= SMA) & (hold =='cash'):#the second case for when the loop checks for a price signal\n",
    "            hold = 'stock'\n",
    "            timing = next_price/price*timing\n",
    "        elif (price < SMA) & (hold =='stock'):#the third and final case for when the loop checks for a price signal because in th fourth scenario nothing happens.\n",
    "            hold ='cash'\n",
    "    return(timing,acct_value)"
   ]
  },
  {
   "cell_type": "code",
   "execution_count": 96,
   "metadata": {},
   "outputs": [],
   "source": [
    "#calling the SMA(timing the market) function with a 14 day SMA and rechecking the price signal every day.\n",
    "#initial value was chosen to be the IVV stock price at the start of the dataset for graphing purposes.\n",
    "value,acct_level = SMA_timing_func_edit(14,1,close,113.650002)"
   ]
  },
  {
   "cell_type": "code",
   "execution_count": 97,
   "metadata": {},
   "outputs": [],
   "source": [
    "#combined benchmark and portfolio daily values and make it loo nice\n",
    "acct=pd.DataFrame(acct_level)\n",
    "acct=pd.merge(acct,pd.DataFrame(stock[\"Date\"]).iloc[15:].reset_index().drop(\"index\",axis=1),left_index=True, right_index=True)\n",
    "IVV=pd.DataFrame(close)\n",
    "ports=acct.join(IVV,how=\"left\")\n",
    "ports.Date=pd.to_datetime(acct.Date)\n",
    "ports.set_index(\"Date\",inplace=True)\n",
    "ports.columns=[\"Strat\",\"IVV\"]"
   ]
  },
  {
   "cell_type": "code",
   "execution_count": 98,
   "metadata": {},
   "outputs": [
    {
     "data": {
      "text/html": [
       "<div>\n",
       "<style scoped>\n",
       "    .dataframe tbody tr th:only-of-type {\n",
       "        vertical-align: middle;\n",
       "    }\n",
       "\n",
       "    .dataframe tbody tr th {\n",
       "        vertical-align: top;\n",
       "    }\n",
       "\n",
       "    .dataframe thead th {\n",
       "        text-align: right;\n",
       "    }\n",
       "</style>\n",
       "<table border=\"1\" class=\"dataframe\">\n",
       "  <thead>\n",
       "    <tr style=\"text-align: right;\">\n",
       "      <th></th>\n",
       "      <th>Strat</th>\n",
       "      <th>IVV</th>\n",
       "    </tr>\n",
       "    <tr>\n",
       "      <th>Date</th>\n",
       "      <th></th>\n",
       "      <th></th>\n",
       "    </tr>\n",
       "  </thead>\n",
       "  <tbody>\n",
       "    <tr>\n",
       "      <th>2002-01-24</th>\n",
       "      <td>113.650002</td>\n",
       "      <td>115.449997</td>\n",
       "    </tr>\n",
       "    <tr>\n",
       "      <th>2002-01-25</th>\n",
       "      <td>113.650002</td>\n",
       "      <td>116.779999</td>\n",
       "    </tr>\n",
       "    <tr>\n",
       "      <th>2002-01-28</th>\n",
       "      <td>113.650002</td>\n",
       "      <td>117.599998</td>\n",
       "    </tr>\n",
       "    <tr>\n",
       "      <th>2002-01-29</th>\n",
       "      <td>113.650002</td>\n",
       "      <td>116.709999</td>\n",
       "    </tr>\n",
       "    <tr>\n",
       "      <th>2002-01-30</th>\n",
       "      <td>113.650002</td>\n",
       "      <td>116.230003</td>\n",
       "    </tr>\n",
       "  </tbody>\n",
       "</table>\n",
       "</div>"
      ],
      "text/plain": [
       "                 Strat         IVV\n",
       "Date                              \n",
       "2002-01-24  113.650002  115.449997\n",
       "2002-01-25  113.650002  116.779999\n",
       "2002-01-28  113.650002  117.599998\n",
       "2002-01-29  113.650002  116.709999\n",
       "2002-01-30  113.650002  116.230003"
      ]
     },
     "execution_count": 98,
     "metadata": {},
     "output_type": "execute_result"
    }
   ],
   "source": [
    "ports.head()"
   ]
  },
  {
   "cell_type": "code",
   "execution_count": 99,
   "metadata": {},
   "outputs": [],
   "source": [
    "#Daily Returns\n",
    "returns=ports.pct_change()"
   ]
  },
  {
   "cell_type": "code",
   "execution_count": 100,
   "metadata": {},
   "outputs": [
    {
     "data": {
      "text/html": [
       "<div>\n",
       "<style scoped>\n",
       "    .dataframe tbody tr th:only-of-type {\n",
       "        vertical-align: middle;\n",
       "    }\n",
       "\n",
       "    .dataframe tbody tr th {\n",
       "        vertical-align: top;\n",
       "    }\n",
       "\n",
       "    .dataframe thead th {\n",
       "        text-align: right;\n",
       "    }\n",
       "</style>\n",
       "<table border=\"1\" class=\"dataframe\">\n",
       "  <thead>\n",
       "    <tr style=\"text-align: right;\">\n",
       "      <th></th>\n",
       "      <th>Strat</th>\n",
       "      <th>IVV</th>\n",
       "    </tr>\n",
       "    <tr>\n",
       "      <th>Date</th>\n",
       "      <th></th>\n",
       "      <th></th>\n",
       "    </tr>\n",
       "  </thead>\n",
       "  <tbody>\n",
       "    <tr>\n",
       "      <th>2002-01-24</th>\n",
       "      <td>NaN</td>\n",
       "      <td>NaN</td>\n",
       "    </tr>\n",
       "    <tr>\n",
       "      <th>2002-01-25</th>\n",
       "      <td>0.0</td>\n",
       "      <td>0.011520</td>\n",
       "    </tr>\n",
       "    <tr>\n",
       "      <th>2002-01-28</th>\n",
       "      <td>0.0</td>\n",
       "      <td>0.007022</td>\n",
       "    </tr>\n",
       "    <tr>\n",
       "      <th>2002-01-29</th>\n",
       "      <td>0.0</td>\n",
       "      <td>-0.007568</td>\n",
       "    </tr>\n",
       "    <tr>\n",
       "      <th>2002-01-30</th>\n",
       "      <td>0.0</td>\n",
       "      <td>-0.004113</td>\n",
       "    </tr>\n",
       "    <tr>\n",
       "      <th>2002-01-31</th>\n",
       "      <td>0.0</td>\n",
       "      <td>-0.005162</td>\n",
       "    </tr>\n",
       "    <tr>\n",
       "      <th>2002-02-01</th>\n",
       "      <td>0.0</td>\n",
       "      <td>0.004151</td>\n",
       "    </tr>\n",
       "    <tr>\n",
       "      <th>2002-02-04</th>\n",
       "      <td>0.0</td>\n",
       "      <td>-0.009818</td>\n",
       "    </tr>\n",
       "    <tr>\n",
       "      <th>2002-02-05</th>\n",
       "      <td>0.0</td>\n",
       "      <td>-0.006523</td>\n",
       "    </tr>\n",
       "    <tr>\n",
       "      <th>2002-02-06</th>\n",
       "      <td>0.0</td>\n",
       "      <td>0.007704</td>\n",
       "    </tr>\n",
       "  </tbody>\n",
       "</table>\n",
       "</div>"
      ],
      "text/plain": [
       "            Strat       IVV\n",
       "Date                       \n",
       "2002-01-24    NaN       NaN\n",
       "2002-01-25    0.0  0.011520\n",
       "2002-01-28    0.0  0.007022\n",
       "2002-01-29    0.0 -0.007568\n",
       "2002-01-30    0.0 -0.004113\n",
       "2002-01-31    0.0 -0.005162\n",
       "2002-02-01    0.0  0.004151\n",
       "2002-02-04    0.0 -0.009818\n",
       "2002-02-05    0.0 -0.006523\n",
       "2002-02-06    0.0  0.007704"
      ]
     },
     "execution_count": 100,
     "metadata": {},
     "output_type": "execute_result"
    }
   ],
   "source": [
    "returns.head(10)"
   ]
  },
  {
   "cell_type": "code",
   "execution_count": 101,
   "metadata": {},
   "outputs": [],
   "source": [
    "#drop first day NaN\n",
    "returns=returns.drop(returns.index[:1])"
   ]
  },
  {
   "cell_type": "markdown",
   "metadata": {},
   "source": [
    "Compare portfolio characteristics"
   ]
  },
  {
   "cell_type": "code",
   "execution_count": 102,
   "metadata": {},
   "outputs": [],
   "source": [
    "#Annual returns and standard deviation and sharpe (note for sharpe ratio I simply do annual return/annual std dev so its not really the sharpe ratio)\n",
    "An_port_returns = returns.resample('AS').sum()\n",
    "An_port_std = returns.resample('AS').sum().std()\n",
    "sharpe=An_port_returns/An_port_std"
   ]
  },
  {
   "cell_type": "code",
   "execution_count": 103,
   "metadata": {},
   "outputs": [
    {
     "data": {
      "text/plain": [
       "Strat    0.022303\n",
       "IVV      0.064623\n",
       "dtype: float64"
      ]
     },
     "execution_count": 103,
     "metadata": {},
     "output_type": "execute_result"
    }
   ],
   "source": [
    "returns.resample('AS').sum().mean()"
   ]
  },
  {
   "cell_type": "code",
   "execution_count": 104,
   "metadata": {},
   "outputs": [
    {
     "data": {
      "text/plain": [
       "Strat    0.130112\n",
       "IVV      0.167048\n",
       "dtype: float64"
      ]
     },
     "execution_count": 104,
     "metadata": {},
     "output_type": "execute_result"
    }
   ],
   "source": [
    "returns.resample('AS').sum().std()"
   ]
  },
  {
   "cell_type": "code",
   "execution_count": 105,
   "metadata": {},
   "outputs": [
    {
     "data": {
      "text/plain": [
       "Strat    0.171417\n",
       "IVV      0.386856\n",
       "dtype: float64"
      ]
     },
     "execution_count": 105,
     "metadata": {},
     "output_type": "execute_result"
    }
   ],
   "source": [
    "sharpe.mean()"
   ]
  },
  {
   "cell_type": "code",
   "execution_count": 106,
   "metadata": {},
   "outputs": [
    {
     "data": {
      "text/plain": [
       "array([-0.33025269, -0.15480084])"
      ]
     },
     "execution_count": 106,
     "metadata": {},
     "output_type": "execute_result"
    }
   ],
   "source": [
    "#left is the SMA strategy, right is IVV\n",
    "stats.skew(returns)"
   ]
  },
  {
   "cell_type": "code",
   "execution_count": 107,
   "metadata": {},
   "outputs": [
    {
     "data": {
      "text/plain": [
       "array([16.39847444, 11.83676265])"
      ]
     },
     "execution_count": 107,
     "metadata": {},
     "output_type": "execute_result"
    }
   ],
   "source": [
    "#left is the SMA strategy, right is IVV\n",
    "stats.kurtosis(returns)"
   ]
  },
  {
   "cell_type": "code",
   "execution_count": null,
   "metadata": {},
   "outputs": [],
   "source": []
  },
  {
   "cell_type": "code",
   "execution_count": null,
   "metadata": {},
   "outputs": [],
   "source": []
  }
 ],
 "metadata": {
  "kernelspec": {
   "display_name": "Python 3",
   "language": "python",
   "name": "python3"
  },
  "language_info": {
   "codemirror_mode": {
    "name": "ipython",
    "version": 3
   },
   "file_extension": ".py",
   "mimetype": "text/x-python",
   "name": "python",
   "nbconvert_exporter": "python",
   "pygments_lexer": "ipython3",
   "version": "3.7.6"
  }
 },
 "nbformat": 4,
 "nbformat_minor": 4
}
